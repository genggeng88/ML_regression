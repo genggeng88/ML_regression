{
 "cells": [
  {
   "cell_type": "markdown",
   "id": "f0bed7e5",
   "metadata": {},
   "source": [
    "## Guassian Process Regression"
   ]
  },
  {
   "cell_type": "markdown",
   "metadata": {},
   "source": [
    "### Gaussian Distribution vs. Gaussian Process"
   ]
  },
  {
   "cell_type": "markdown",
   "metadata": {},
   "source": [
    "Gaussian Distribution (Normal Distribution) describes the shape or probability of how data points in a dataset will be distributed, with the expression of: \n",
    "\n",
    "$$X \\sim N(\\mu, \\Sigma)$$\n",
    "\n",
    "Gaussian process a probability distribution over possible functions instead of data points. The idea is to model the unknown function that relates the input and output variables as a random draw from a Gaussian process. This allows us to make predictions on new input values by calculating the conditional distribution of the output variable given the input values and the training data. GP is fully expressed by its mean function and kernel function: \n",
    "\n",
    "$$X \\sim GP(m(x),  k(x,x'))$$\n",
    "\n",
    "$m(x)$: the mean function, describes the mean of any given data point x\n",
    "$k(x,x')$: the kernel function, describes the relationship between any given two data points x and x'.\n",
    "\n",
    "Kernel function: defines the covariance between different points in the input space, which determines how closely related these points are in terms of their output values. \n",
    "\n",
    "The most common kernel function is the radial basis function (RBF) kernel: \n",
    "\n",
    "$$k(x1, x2) = exp-\\dfrac{(x1 - x2)^2}{2L^2}$$\n",
    "\n",
    "One advantage of Gaussian regression is that it provides a probabilistic estimate of the predicted output, along with a measure of uncertainty. This is in contrast to other regression techniques, such as linear regression or decision trees, which only provide a point estimate of the predicted output. Additionally, Gaussian regression can be used for tasks such as Bayesian optimization, where the goal is to find the input values that maximize a given objective function."
   ]
  },
  {
   "cell_type": "code",
   "execution_count": 7,
   "metadata": {},
   "outputs": [
    {
     "name": "stderr",
     "output_type": "stream",
     "text": [
      "/home/922361294/anaconda3/lib/python3.9/site-packages/sklearn/gaussian_process/kernels.py:411: ConvergenceWarning: The optimal value found for dimension 0 of parameter k1__k2__k1__constant_value is close to the specified upper bound 100000.0. Increasing the bound and calling fit again may find a better value.\n",
      "  warnings.warn(\"The optimal value found for \"\n"
     ]
    },
    {
     "data": {
      "text/plain": [
       "Text(0, 0.5, 'Predicted')"
      ]
     },
     "execution_count": 7,
     "metadata": {},
     "output_type": "execute_result"
    },
    {
     "data": {
      "image/png": "[encoded data removed]",
      "text/plain": [
       "<Figure size 432x288 with 1 Axes>"
      ]
     },
     "metadata": {
      "needs_background": "light"
     },
     "output_type": "display_data"
    }
   ],
   "source": [
    "# GPR example using scikit-learn packages:\n",
    "# reference: https://towardsdatascience.com/getting-started-with-gaussian-process-regression-modeling-47e7982b534d \n",
    "from sklearn.datasets import load_boston\n",
    "from sklearn.model_selection import train_test_split\n",
    "from sklearn.metrics import r2_score\n",
    "from sklearn.gaussian_process import GaussianProcessRegressor\n",
    "from sklearn.gaussian_process.kernels import RBF, ConstantKernel, WhiteKernel\n",
    "import matplotlib.pyplot as plt\n",
    "\n",
    "X, y = load_boston(return_X_y=True)\n",
    "X_train, X_test, y_train, y_test = train_test_split(X, y, test_size=0.2)\n",
    "\n",
    "# use a combined kernel\n",
    "kernel = ConstantKernel(1.0) + ConstantKernel(1.0) * RBF(10) + WhiteKernel(5)\n",
    "model = GaussianProcessRegressor(kernel=kernel)\n",
    "model.fit(X_train, y_train)\n",
    "y_pred_tr, y_pred_tr_std = model.predict(X_train, return_std=True)\n",
    "y_pred_te, y_pred_te_std = model.predict(X_test, return_std=True)\n",
    "\n",
    "plt.figure()\n",
    "plt.errorbar(y_test, y_pred_te, yerr=y_pred_te_std, fmt='o')\n",
    "plt.title('Gaussian process regression, R2=%.2f' % r2_score(y_test, y_pred_te))\n",
    "plt.xlabel('Actual')\n",
    "plt.ylabel('Predicted')\n"
   ]
  },
  {
   "cell_type": "markdown",
   "metadata": {},
   "source": [
    "Fit a GP to data:\n",
    " \n",
    "$$ \\hat{y} = \\mu(X_*) + K_{*X} (K_{XX} + \\sigma^2 I)^{-1} (y_{X} - \\mu(X)) $$\n",
    "\n",
    "$K_{*X}$ is the covariance matrix between test and training data, $K_{XX}$ is the covariance matrix between training and training data, $y_X$ is the predictive output from the training dataset."
   ]
  },
  {
   "cell_type": "code",
   "execution_count": 8,
   "id": "70290731",
   "metadata": {},
   "outputs": [
    {
     "name": "stdout",
     "output_type": "stream",
     "text": [
      "[1.40000034 0.59999354 9.40000547]\n",
      "[1.4 0.6 9.4]\n"
     ]
    }
   ],
   "source": [
    "# write my own kernel and GP model\n",
    "import cupy as cp\n",
    "import matplotlib.pyplot as plt\n",
    "\n",
    "# Radial basis function (RBF) kernel\n",
    "def RBF(x1, x2, length_scale=1.0):\n",
    "    x1=cp.array(x1)\n",
    "    x2=cp.array(x2)\n",
    "    return cp.exp(-0.5 * (x1 - x2)**2 / length_scale ** 2)\n",
    "'''\n",
    "x1 = [[1,1,1],[2,2,2],[3,3,3]]\n",
    "x2 = [[4,5,6], [4,5,6], [4,5,6]]\n",
    "y = RBF(x1, x2)\n",
    "print(y)\n",
    "'''\n",
    "\n",
    "# kernel/covariance matrix\n",
    "def kernel_matrix(kernel, X1, X2, L=1.0, sigma=1e-6):\n",
    "    # let's first assum X1 and X2 are both one-dimensional\n",
    "    size1 = X1.shape[0]\n",
    "    size2 = X2.shape[0]\n",
    "    X1 = cp.reshape(X1, [size1,1])\n",
    "    X2 = cp.reshape(X2, [1, size2])\n",
    "    m = X1.shape[0]\n",
    "    n = X2.shape[1]\n",
    "    X1_trans = cp.repeat(X1, n, axis=1)\n",
    "    X2_trans = cp.repeat(X2, m, axis=0) \n",
    "    #print(X1_trans)\n",
    "    #print(X2_trans)\n",
    "    return kernel(X1,X2,L)\n",
    "\n",
    "def mu(x):\n",
    "    return x\n",
    "\n",
    "def GP_fit_predict(x_train, x_test, y_train, y_test, k, mu, kernel_matrix, L = 1.0, sigma = 1e-6):\n",
    "    # GP_fit with this function:\n",
    "    # y = mu(X_*) + K_{*X} (K_{XX} + \\sigma^2 I)^{-1} (y_{X} - \\mu(X))\n",
    "    \n",
    "    K_train_test = kernel_matrix(k, x_test, x_train, L, sigma)\n",
    "    K_train_train = kernel_matrix(k, x_train, x_train, L, sigma)\n",
    "\n",
    "    K_y = cp.linalg.inv(K_train_train - (sigma * cp.identity(x_train.shape[0]) ))\n",
    "    post_mean = mu(x_test) + ( (K_train_test @ K_y) @ (y_train - mu(x_train)) )\n",
    "    return post_mean\n",
    "\n",
    "'''\n",
    "x1 = cp.array([1,2,3,4])\n",
    "x2 = cp.array([5,6])\n",
    "kernel_mat = kernel_matrix(RBF, x1, x2)\n",
    "print(kernel_mat)\n",
    "'''\n",
    "\n",
    "X_train = cp.array([1., 7., 4.])\n",
    "X_test = cp.array([2.5, 5.3])\n",
    "\n",
    "y_train = cp.array([1.4,0.6,9.4])\n",
    "y_test = cp.array([4.,1.])\n",
    "\n",
    "# use the same dataset for both training and testing\n",
    "post_mean = GP_fit_predict(X_train, X_train, y_train, y_train, RBF, mu, kernel_matrix)\n",
    "print(post_mean)\n",
    "print(y_train)\n",
    "\n"
   ]
  },
  {
   "cell_type": "markdown",
   "metadata": {},
   "source": [
    "The above GPR model works for 1-dimensional data input.\n",
    "\n",
    "Write a GPR model which works for multiple dimension data input."
   ]
  },
  {
   "cell_type": "markdown",
   "metadata": {},
   "source": [
    "One question to be answered: <b>Do I need to add mean(x_train) and mean(x_test) in GPR?</b>\n",
    "\n",
    "In Gaussian Process Regression, it is not necessary to subtract the mean of train_x or test_x.\n",
    "\n",
    "The prior over functions is assumed to be a zero-mean Gaussian process. This means that the mean of the data is already accounted for by the kernel function. The kernel function specifies the covariance between points in the input space, and it incorporates both the mean and variance of the data.\n",
    "\n",
    "Thus, it is common to center the training data by subtracting the mean of the train_x from both the train_x and test_x. This can help improve numerical stability and make the optimization problem more well-behaved. However, it is not strictly necessary to do so, as the kernel function is designed to handle data with non-zero means."
   ]
  },
  {
   "cell_type": "code",
   "execution_count": 20,
   "metadata": {},
   "outputs": [
    {
     "name": "stdout",
     "output_type": "stream",
     "text": [
      "y is: [2. 4. 6.]\n",
      "y_pred is: [2. 4. 6.]\n",
      "cov: \n",
      "[[ 1.99999900e-06  2.47891985e-15 -6.14337930e-18]\n",
      " [ 2.47891985e-15  1.99999900e-06  2.47935353e-15]\n",
      " [-6.14464592e-18  2.47891985e-15  1.99999900e-06]]\n",
      "std: [0.00141421 0.00141421 0.00141421]\n"
     ]
    }
   ],
   "source": [
    "import cupy as cp\n",
    "\n",
    "class GaussianRegressor:\n",
    "    def __init__(self, kernel):\n",
    "        self.kernel = kernel\n",
    "        self.sigma = None\n",
    "        self.X = None\n",
    "        self.y = None\n",
    "\n",
    "    def fit(self, X, y, sigma=1e-6):\n",
    "        self.sigma = sigma\n",
    "        self.X = X\n",
    "        self.y = y\n",
    "\n",
    "    def predict(self, Xtest):\n",
    "        K = self.kernel(self.X, self.X) + self.sigma * cp.eye(len(self.X))\n",
    "        K_train_test = self.kernel(self.X, Xtest)\n",
    "        K_test_test = self.kernel(Xtest, Xtest) + self.sigma * cp.eye(len(Xtest))\n",
    "        \n",
    "        #mean = K_train_test.T @ cp.linalg.inv(K) @ self.y\n",
    "\n",
    "        # mu(x_train) and mu(x_test) are not strictly required\n",
    "        mean = mu(Xtest) + K_train_test.T @ cp.linalg.inv(K) @ (self.y - mu(self.X))\n",
    "\n",
    "        # returned cov represents the uncertainty associated with the predicted mean at each test point\n",
    "        cov = K_test_test - K_train_test.T @ cp.linalg.inv(K) @ K_train_test\n",
    "        std = cp.sqrt(cp.diag(cov))\n",
    "\n",
    "        return mean, cov, std\n",
    "\n",
    "# Define the RBF kernel\n",
    "# now X1 and X2 are m1-n and m2-n dimensional matrix\n",
    "# X1 and X2 have the same column number n which denotes the number of featrues\n",
    "# X1 and X2 have different first dimension m1 and m2 which denote number of data point\n",
    "def rbf_kernel(X1, X2, length_scale=1.0):\n",
    "    cp.atleast_2d(X1)\n",
    "    cp.atleast_2d(X2)\n",
    "    s1 = X1.shape\n",
    "    s2 = X2.shape\n",
    "    \n",
    "    if (s1[1] != s2[1]):\n",
    "        print(\"ERROR! RBF input matices must have the same number of columns!\")\n",
    "        return\n",
    "\n",
    "    dists = cp.sum((X1[:, cp.newaxis] - X2) ** 2, axis=2)\n",
    "    return cp.exp(-dists / (2 * length_scale ** 2))\n",
    "\n",
    "def mu(x):\n",
    "    n = x.shape[1]\n",
    "    return cp.sum(x,axis=1) / n\n",
    "\n",
    "'''\n",
    "X1 = cp.array([[1.,2.,3.],[3.,4.,5.],[5.,6.,7.]])\n",
    "X2 = cp.array([[2.,3.,4.],[7.,8.,9.],[9.,10,11.]])\n",
    "cov = rbf_kernel(X1, X2)\n",
    "print(cov)\n",
    "\n",
    ">> output is:\n",
    "[[2.23130160e-01 3.53262857e-24 2.03109266e-42]\n",
    " [2.23130160e-01 3.77513454e-11 3.53262857e-24]\n",
    " [1.37095909e-06 2.47875218e-03 3.77513454e-11]]\n",
    "'''\n",
    "\n",
    "X1 = cp.array([[1.,2.,3.],[3.,4.,5.],[5.,6.,7.]])\n",
    "y = cp.array([2.,4.,6.])\n",
    "gr = GaussianRegressor(rbf_kernel)\n",
    "gr.fit(X1,y)\n",
    "\n",
    "# use the same data set as training, y_pred should be similar to y\n",
    "y_pred, cov, std = gr.predict(X1)\n",
    "\n",
    "print('y is: ' + str(y))\n",
    "print('y_pred is: ' + str(y_pred))\n",
    "print('cov: \\n' + str(cov))\n",
    "print('std: ' + str(std))\n",
    "\n"
   ]
  },
  {
   "cell_type": "markdown",
   "metadata": {},
   "source": [
    "## GPR with Cholesky"
   ]
  },
  {
   "cell_type": "markdown",
   "metadata": {},
   "source": [
    "### what is Cholesky?"
   ]
  },
  {
   "cell_type": "markdown",
   "metadata": {},
   "source": [
    "Cholesky decomposition (or factorization) is a more efficiently method for solving a linear system of equations,especially for large and sparse matrices.\n",
    "\n",
    "Every symetric and positive semi-definite matrix $A$ can be decomposed into: $A = L * L^T$\n",
    "\n",
    "where L is a lower triangular matrix. The elements of L are calculated using the following equations:\n",
    "\n",
    "If symetric and positive semi-definite matrix $A$ satisfies the linear system quation $Ax = b$, then this system equation ($L * L^T * x = b$) can be solved more efficiently using Cholesky decomposition with two steps: \n",
    "\n",
    "1. Forward substitution: Solve $Ly = b$ for y using forward substitution.\n",
    "\n",
    "2. Backward substitution: Solve $L^Tx = y$ for x using backward substitution."
   ]
  },
  {
   "cell_type": "code",
   "execution_count": 22,
   "metadata": {},
   "outputs": [
    {
     "name": "stdout",
     "output_type": "stream",
     "text": [
      "y is: [2. 4. 6.]\n",
      "y_pred is: [2. 4. 6.]\n",
      "cov: \n",
      "[[1.00008890e-12 0.00000000e+00 0.00000000e+00]\n",
      " [0.00000000e+00 1.00019992e-12 4.33680869e-19]\n",
      " [0.00000000e+00 4.33680869e-19 1.00019992e-12]]\n",
      "std: [1.00004445e-06 1.00009996e-06 1.00009996e-06]\n"
     ]
    }
   ],
   "source": [
    "import cupy as cp\n",
    "\n",
    "class GaussianRegressorCholesky:\n",
    "    def __init__(self, kernel):\n",
    "        self.kernel = kernel\n",
    "        self.sigma = None\n",
    "        self.X = None\n",
    "        self.y = None\n",
    "\n",
    "    def fit(self, X, y, sigma=1e-6):\n",
    "        self.sigma = sigma\n",
    "        self.X = X\n",
    "        self.y = y\n",
    "        self.K = self.kernel(X, X) + self.sigma**2 * cp.eye(len(X))\n",
    "        self.L = cp.linalg.cholesky(self.K)\n",
    "        # let alpha = inv(K) * y => K * alpha = y => L*L.T * alpha = y => alpha = solve(L.T, solve(L, y))\n",
    "        self.alpha = cp.linalg.solve(self.L.T, cp.linalg.solve(self.L, y))\n",
    "\n",
    "    def predict(self, Xtest):\n",
    "        K_train_test = self.kernel(self.X, Xtest)\n",
    "        mean = K_train_test.T @ self.alpha\n",
    "\n",
    "        # L*v = K => v = inv(L)*K => v.T * v = K.T * inv(L.T) * inv(L) * K = K.T * inv(L*L.T) * K\n",
    "        v = cp.linalg.solve(self.L, K_train_test)\n",
    "        cov = self.kernel(Xtest, Xtest) - v.T @ v\n",
    "        std = cp.sqrt(cp.diag(cov))\n",
    "\n",
    "        return mean, cov, std\n",
    "\n",
    "\n",
    "X1 = cp.array([[1.,2.,3.],[3.,4.,5.],[5.,6.,7.]])\n",
    "y = cp.array([2.,4.,6.])\n",
    "gr = GaussianRegressorCholesky(rbf_kernel)\n",
    "gr.fit(X1,y)\n",
    "\n",
    "# use the same data set as training, y_pred should be similar to y\n",
    "y_pred, cov, std = gr.predict(X1)\n",
    "\n",
    "print('y is: ' + str(y))\n",
    "print('y_pred is: ' + str(y_pred))\n",
    "print('cov: \\n' + str(cov))\n",
    "print('std: ' + str(std))"
   ]
  },
  {
   "cell_type": "markdown",
   "metadata": {},
   "source": [
    "## GPR with Derivatives\n",
    "\n",
    "A Gaussian process regression is used for mapping from input variables to output variables.\n",
    "\n",
    "In some cases, it can be useful to model not just the output variables, but also their derivatives. \n",
    "\n",
    "Gaussian process with derivatives (GPD) is a variant of GRP which models both output variables and their derivatives.\n",
    "\n",
    "GPD properties:\n",
    "\n",
    "If $f \\sim GP(\\mu, k)$, then\n",
    "$$\n",
    "\\nabla f \\sim GP(\\frac{\\partial}{\\partial x} \\mu, \\frac{\\partial^2}{\\partial x \\partial y}{k})\n",
    "$$\n",
    "\n",
    "In words, if our original model of $f$ is drawn from a GP with a certain mean and kernel function, then the gradient of our model $f$ is drawn from a GP with a related mean and kernel."
   ]
  },
  {
   "cell_type": "markdown",
   "metadata": {},
   "source": [
    "#### Take an Example of 1D input\n",
    "\n",
    "Suppose\n",
    "$$\n",
    "\\mu(x) = 0\n",
    "$$\n",
    "and\n",
    "$$\n",
    "k(x, y) = \\exp(-.5 (x-y)^2/l^2)\n",
    "$$\n",
    "where the number of dimensions is $1$ for simplicity.\n",
    "\n",
    "Then\n",
    "$$\n",
    "\\nabla f \\sim GP(\\frac{d}{dx} \\mu, \\frac{d^2}{d x d y}{k})\n",
    "$$\n",
    "\n",
    "where\n",
    "\n",
    "1.\n",
    "$$\n",
    "\\frac{d}{d x} \\mu = \\begin{pmatrix}\n",
    "0 \\\\\n",
    "\\vdots \\\\\n",
    "0 \\\\\n",
    "\\end{pmatrix}\n",
    "$$\n",
    "2.\n",
    "$$\n",
    "\\frac{d}{d x} k(x, y) = -\\frac{x - y}{l^2}k(x, y)\n",
    "$$\n",
    "3. \n",
    "$$\n",
    "\\frac{d^2}{dx dy} k(x, y) = \\frac{1}{l^2}(1 - (x - y)^2/l^2)k(x, y)\n",
    "$$"
   ]
  },
  {
   "cell_type": "code",
   "execution_count": 21,
   "metadata": {},
   "outputs": [
    {
     "name": "stdout",
     "output_type": "stream",
     "text": [
      "y is: \n",
      "[ 0.00684822 -0.66233653 -0.77895811 -0.7949806   0.96412909  0.74868357\n",
      "  0.23687502  0.32775342  0.75827665 -1.04282814]\n",
      "y_pred is: \n",
      "[ 0.18399048 -0.69895554 -0.84116364 -0.79505157  0.92595673  0.86395264\n",
      "  0.05889893  0.42700195  0.77154541 -1.06827164]\n",
      "dy is: \n",
      "[ 0.96830884 -0.66760777  0.2838829   0.18975441 -0.51102074  0.12207102\n",
      "  0.99147369 -0.88190319  0.67579339 -0.02179945]\n",
      "dy_pred: \n",
      "[ 0.96830883 -0.66760776  0.28388291  0.18975441 -0.51102071  0.12207101\n",
      "  0.99147371 -0.88190318  0.67579338 -0.02179943]\n"
     ]
    }
   ],
   "source": [
    "import cupy as cp\n",
    "import matplotlib.pyplot as plt\n",
    "\n",
    "class GaussianRegressionWithDerivatives():\n",
    "    def __init__(self, kernel=None, dd_kernel=None, sigma=1e-6):\n",
    "        self.kernel = kernel\n",
    "        self.dd_kernel = dd_kernel\n",
    "        self.sigma = sigma\n",
    "        self.X = None\n",
    "        self.y = None\n",
    "        \n",
    "    def fit(self, X, y, dy):\n",
    "        self.X = X\n",
    "        self.y = y\n",
    "        self.dy = dy\n",
    "        # print('the shape of self.kernel(X, X) is: ' + str(self.kernel(X, X).shape))\n",
    "        self.K = self.kernel(X, X) + self.sigma**2 * cp.eye(len(X))\n",
    "        # print('the shape of self.K is: ' + str(self.K.shape))\n",
    "        self.dK = self.dd_kernel(X, X) + self.sigma**2 * cp.eye(len(X))\n",
    "        self.L = cp.linalg.cholesky(self.K)\n",
    "        self.dL = cp.linalg.cholesky(self.dK)\n",
    "        # let alpha = inv(K) * y => K * alpha = y => L*L.T * alpha = y => alpha = solve(L.T, solve(L, y))\n",
    "        self.alpha = cp.linalg.solve(self.L.T, cp.linalg.solve(self.L, y))\n",
    "        self.dalpha = cp.linalg.solve(self.dL.T, cp.linalg.solve(self.dL, dy))\n",
    "\n",
    "        return self\n",
    "        \n",
    "    def predict(self, Xtest):\n",
    "\n",
    "        K_train_test = self.kernel(self.X, Xtest)\n",
    "        y_pred = K_train_test.T @ self.alpha\n",
    "\n",
    "        dK_train_test = self.dd_kernel(self.X, Xtest)\n",
    "        dy_pred = dK_train_test.T @ self.dalpha\n",
    "\n",
    "        # L*v = K => v = inv(L)*K => v.T * v = K.T * inv(L.T) * inv(L) * K = K.T * inv(L*L.T) * K\n",
    "        # v = cp.linalg.solve(self.L, K_train_test)\n",
    "        # cov = self.kernel(Xtest, Xtest) - v.T @ v\n",
    "        # std = cp.sqrt(cp.diag(cov))\n",
    "\n",
    "        # return mean, cov, std\n",
    "        \n",
    "        return y_pred, dy_pred\n",
    "\n",
    "def d_mu(x):\n",
    "    return 0\n",
    "\n",
    "def RBF(x1, x2, length_scale=1.0):\n",
    "    diff_mat = x1[:, cp.newaxis] - x2\n",
    "    return cp.exp(-0.5 * diff_mat ** 2 / length_scale ** 2)\n",
    "\n",
    "def d_RBF(x1, x2, length_scale=1.0):\n",
    "    diff_mat = x1[:, cp.newaxis] - x2\n",
    "    return diff_mat * cp.exp(-0.5 * diff_mat ** 2 / length_scale ** 2)\n",
    "\n",
    "def dd_RBF(x1, x2, length_scale=1.0):\n",
    "    diff_mat = x1[:, cp.newaxis] - x2\n",
    "    return (1 - diff_mat**2/length_scale**2)/length_scale**2 * cp.exp(-0.5 * diff_mat ** 2 / length_scale ** 2)\n",
    "\n",
    "\n",
    "X = cp.array(cp.random.uniform(-5, 5, size=(50,)))\n",
    "y = cp.array(cp.sin(X) + cp.random.normal(0, 0.1, size=(50,)))\n",
    "dy = cp.array(cp.cos(X))\n",
    "\n",
    "gr = GaussianRegressionWithDerivatives(RBF, dd_RBF)\n",
    "gr.fit(X,y,dy)\n",
    "\n",
    "# use the same data set as training, y_pred and dy_pred should be similar to y and dy\n",
    "y_pred, dy_pred = gr.predict(X)\n",
    "\n",
    "print('y is: \\n' + str(y[:10]))\n",
    "print('y_pred is: \\n' + str(y_pred[:10]))\n",
    "print('dy is: \\n' + str(dy[:10]))\n",
    "print('dy_pred: \\n' + str(dy_pred[:10]))\n"
   ]
  },
  {
   "cell_type": "markdown",
   "metadata": {},
   "source": [
    "## Velidate With Larger Dataset\n",
    "####  RMSE (Root Mean Square Error) as error control\n",
    "\n"
   ]
  },
  {
   "cell_type": "markdown",
   "metadata": {},
   "source": [
    "#### 1. validate GaussianRegressorCholesky(), compared with sklearn.gaussian_process library"
   ]
  },
  {
   "cell_type": "code",
   "execution_count": 9,
   "metadata": {},
   "outputs": [],
   "source": [
    "import cupy as cp\n",
    "from sklearn.model_selection import train_test_split\n",
    "\n",
    "class GaussianRegressorCholesky:\n",
    "    def __init__(self, kernel, mu):\n",
    "        self.kernel = kernel\n",
    "        self.sigma = None\n",
    "        self.X = None\n",
    "        self.y = None\n",
    "        self.mu = mu\n",
    "\n",
    "    def fit(self, X, y, sigma=1e-6):\n",
    "        self.sigma = sigma\n",
    "        self.X = X\n",
    "        self.y = y\n",
    "        self.K = self.kernel(X, X) + self.sigma**2 * cp.eye(len(X))\n",
    "        self.L = cp.linalg.cholesky(self.K)\n",
    "        # let alpha = inv(K) * y => K * alpha = y => L*L.T * alpha = y => alpha = solve(L.T, solve(L, y))\n",
    "        self.alpha = cp.linalg.solve(self.L.T, cp.linalg.solve(self.L, y - self.mu(X)))\n",
    "\n",
    "    def predict(self, Xtest):\n",
    "        K_train_test = self.kernel(self.X, Xtest)\n",
    "        mean = self.mu(Xtest) + K_train_test.T @ self.alpha\n",
    "\n",
    "        # L*v = K => v = inv(L)*K => v.T * v = K.T * inv(L.T) * inv(L) * K = K.T * inv(L*L.T) * K\n",
    "        v = cp.linalg.solve(self.L, K_train_test)\n",
    "        cov = self.kernel(Xtest, Xtest) - v.T @ v\n",
    "        std = cp.sqrt(cp.diag(cov))\n",
    "        return mean, cov, std\n",
    "\n",
    "def rbf_kernel(X1, X2, length_scale=1.0):\n",
    "    cp.atleast_2d(X1)\n",
    "    cp.atleast_2d(X2)\n",
    "    s1 = X1.shape\n",
    "    s2 = X2.shape\n",
    "    \n",
    "    if (s1[1] != s2[1]):\n",
    "        print(\"ERROR! RBF input matices must have the same number of columns!\")\n",
    "        return\n",
    "\n",
    "    dists = cp.sum((X1[:, cp.newaxis] - X2) ** 2, axis=2)\n",
    "    return cp.exp(-dists / (2 * length_scale ** 2))\n",
    "\n",
    "def mu(x):\n",
    "    '''\n",
    "    [m,n] = x.shape\n",
    "    return (cp.sum(x,axis=1) / n).reshape((m,1))\n",
    "    '''\n",
    "    # for linear dataset\n",
    "    #return 2*x\n",
    "    return 0\n",
    "\n",
    "# Calculate RMSE\n",
    "def RMSE(y, y_pred):\n",
    "    return cp.sqrt(cp.mean((y_pred - y) ** 2))\n",
    "\n",
    "gr = GaussianRegressorCholesky(rbf_kernel, mu)\n"
   ]
  },
  {
   "cell_type": "code",
   "execution_count": 3,
   "metadata": {},
   "outputs": [],
   "source": [
    "from sklearn.datasets import load_boston\n",
    "from sklearn.model_selection import train_test_split\n",
    "from sklearn.metrics import r2_score\n",
    "from sklearn.gaussian_process import GaussianProcessRegressor\n",
    "from sklearn.gaussian_process.kernels import RBF\n",
    "import matplotlib.pyplot as plt\n",
    "\n",
    "kernel_std = RBF(1.0)\n",
    "gp_std = GaussianProcessRegressor(kernel=kernel_std)"
   ]
  },
  {
   "cell_type": "code",
   "execution_count": 8,
   "metadata": {},
   "outputs": [
    {
     "name": "stdout",
     "output_type": "stream",
     "text": [
      "RSME for y_error_tr is: 1.2211169462607472e-12\n",
      "RSME for y_error_te is: 2.980388658088169\n",
      "RSME for y_error_tr_std is: 3.996622915211743e-05\n",
      "RSME for y_error_te_std is: 1.6412263850062005\n"
     ]
    },
    {
     "name": "stderr",
     "output_type": "stream",
     "text": [
      "/home/922361294/anaconda3/lib/python3.9/site-packages/sklearn/gaussian_process/_gpr.py:506: ConvergenceWarning: lbfgs failed to converge (status=2):\n",
      "ABNORMAL_TERMINATION_IN_LNSRCH.\n",
      "\n",
      "Increase the number of iterations (max_iter) or scale the data as shown in:\n",
      "    https://scikit-learn.org/stable/modules/preprocessing.html\n",
      "  _check_optimize_result(\"lbfgs\", opt_res)\n"
     ]
    },
    {
     "data": {
      "image/png": "[encoded data removed]",
      "text/plain": [
       "<Figure size 432x288 with 1 Axes>"
      ]
     },
     "metadata": {
      "needs_background": "light"
     },
     "output_type": "display_data"
    }
   ],
   "source": [
    "# linear dataset x and y = 2*x + 3\n",
    "x = cp.arange(-100,100,1).reshape(200,1)\n",
    "y = cp.array(2*x + 3).reshape(200,1)\n",
    "x_test = cp.arange(101,120,1).reshape(19,1)\n",
    "y_test = cp.array(2*x_test + 3).reshape(19,1)\n",
    "\n",
    "gr.fit(cp.array(x),cp.array(y))\n",
    "y_pred_tr, cov_, std_ = gr.predict(cp.array(x))\n",
    "y_pred_te, cov, std = gr.predict(cp.array(x_test))\n",
    "\n",
    "gp_std.fit(x.get(), y.get())\n",
    "y_pred_tr_std = gp_std.predict(x.get())\n",
    "y_pred_te_std = gp_std.predict(x_test.get())\n",
    "\n",
    "y_error_tr = RMSE(cp.array(y), cp.array(y_pred_tr))\n",
    "y_error_te = RMSE(cp.array(y_test), cp.array(y_pred_te))\n",
    "y_error_tr_std = RMSE(cp.array(y), cp.array(y_pred_tr_std))\n",
    "y_error_te_std = RMSE(cp.array(y_test), cp.array(y_pred_te_std))\n",
    "\n",
    "print('RSME for y_error_tr is: ' + str(y_error_tr))\n",
    "print('RSME for y_error_te is: ' + str(y_error_te))\n",
    "print('RSME for y_error_tr_std is: ' + str(y_error_tr_std))\n",
    "print('RSME for y_error_te_std is: ' + str(y_error_te_std))\n",
    "\n",
    "# Plot the lines\n",
    "plt.plot(y_test.get(), label='y_test')\n",
    "plt.plot(y_pred_te.get(), label='y_pred_te')\n",
    "plt.plot(y_pred_te_std, label='y_pred_te_std')\n",
    "\n",
    "# Add legend and labels\n",
    "plt.legend()\n",
    "plt.xlabel('x')\n",
    "plt.ylabel('y')\n",
    "\n",
    "# Show the plot\n",
    "plt.show()"
   ]
  },
  {
   "cell_type": "code",
   "execution_count": 10,
   "metadata": {},
   "outputs": [
    {
     "name": "stdout",
     "output_type": "stream",
     "text": [
      "RSME for y_error_tr is: 1.2880861948230199e-08\n",
      "RSME for y_error_te is: 0.2873845184511081\n",
      "RSME for y_error_tr_std is: 5.414038475886103e-07\n",
      "RSME for y_error_te_std is: 0.046879150871525326\n"
     ]
    },
    {
     "data": {
      "image/png": "[encoded data removed]",
      "text/plain": [
       "<Figure size 432x288 with 1 Axes>"
      ]
     },
     "metadata": {
      "needs_background": "light"
     },
     "output_type": "display_data"
    }
   ],
   "source": [
    "# sin dataset of x and y=sine(x)\n",
    "x = cp.arange(-15,15,0.1)\n",
    "n = x.shape[0]\n",
    "x = x.reshape(n,1)\n",
    "y = cp.array(cp.sin(x)).reshape(n,1)\n",
    "dy = cp.array(cp.cos(x)).reshape(n,1)\n",
    "\n",
    "x_test = cp.arange(15,18,0.1)\n",
    "m = x_test.shape[0]\n",
    "x_test = x_test.reshape(m,1)\n",
    "y_test = cp.array(cp.sin(x_test)).reshape(m,1)\n",
    "dy_text = cp.array(cp.cos(x_test)).reshape(m,1)\n",
    "\n",
    "gr.fit(cp.array(x),cp.array(y))\n",
    "y_pred_tr, cov_, std_ = gr.predict(cp.array(x))\n",
    "y_pred_te, cov, std = gr.predict(cp.array(x_test))\n",
    "\n",
    "gp_std.fit(x.get(), y.get())\n",
    "y_pred_tr_std = gp_std.predict(x.get())\n",
    "y_pred_te_std = gp_std.predict(x_test.get())\n",
    "\n",
    "y_error_tr = RMSE(cp.array(y), cp.array(y_pred_tr))\n",
    "y_error_te = RMSE(cp.array(y_test), cp.array(y_pred_te))\n",
    "y_error_tr_std = RMSE(cp.array(y), cp.array(y_pred_tr_std))\n",
    "y_error_te_std = RMSE(cp.array(y_test), cp.array(y_pred_te_std))\n",
    "\n",
    "print('RSME for y_error_tr is: ' + str(y_error_tr))\n",
    "print('RSME for y_error_te is: ' + str(y_error_te))\n",
    "print('RSME for y_error_tr_std is: ' + str(y_error_tr_std))\n",
    "print('RSME for y_error_te_std is: ' + str(y_error_te_std))\n",
    "\n",
    "# Plot the lines\n",
    "plt.plot(y_test.get(), label='y_test')\n",
    "plt.plot(y_pred_te.get(), label='y_pred_te')\n",
    "plt.plot(y_pred_te_std, label='y_pred_te_std')\n",
    "\n",
    "# Add legend and labels\n",
    "plt.legend()\n",
    "plt.xlabel('x')\n",
    "plt.ylabel('y')\n",
    "\n",
    "# Show the plot\n",
    "plt.show()"
   ]
  },
  {
   "cell_type": "code",
   "execution_count": 11,
   "metadata": {},
   "outputs": [
    {
     "name": "stdout",
     "output_type": "stream",
     "text": [
      "RSME for y_error_tr is: 8.155906639674947e-11\n",
      "RSME for y_error_te is: 346.91361784157\n",
      "RSME for y_error_tr_std is: 3.3487840727871555e-08\n",
      "RSME for y_error_te_std is: 298.5913041293203\n"
     ]
    },
    {
     "data": {
      "image/png": "[encoded data removed]",
      "text/plain": [
       "<Figure size 432x288 with 1 Axes>"
      ]
     },
     "metadata": {
      "needs_background": "light"
     },
     "output_type": "display_data"
    }
   ],
   "source": [
    "# d=2 and y = x[0]^2 + x[1]^2\n",
    "x = cp.array([[0,2],[1,3],[2,4],[3,5],[4,6],[5,7],[6,8],[7,9],[8,10],[9,11],[10,12]])\n",
    "y = cp.array(x[:,0]**2 + x[:,1]**2)\n",
    "dy = cp.column_stack((2*x[:,0], 2*x[:,1]))\n",
    "\n",
    "x_test = cp.array([[11,13],[12,15],[13,16]])\n",
    "y_test = cp.array(x_test[:,0]**2 + x_test[:,1]**2)\n",
    "dy_test = cp.column_stack((2*x_test[:,0], 2*x_test[:,1]))\n",
    "\n",
    "gr.fit(cp.array(x),cp.array(y))\n",
    "y_pred_tr, cov_, std_ = gr.predict(cp.array(x))\n",
    "y_pred_te, cov, std = gr.predict(cp.array(x_test))\n",
    "\n",
    "gp_std.fit(x.get(), y.get())\n",
    "y_pred_tr_std = gp_std.predict(x.get())\n",
    "y_pred_te_std = gp_std.predict(x_test.get())\n",
    "\n",
    "y_error_tr = RMSE(cp.array(y), cp.array(y_pred_tr))\n",
    "y_error_te = RMSE(cp.array(y_test), cp.array(y_pred_te))\n",
    "y_error_tr_std = RMSE(cp.array(y), cp.array(y_pred_tr_std))\n",
    "y_error_te_std = RMSE(cp.array(y_test), cp.array(y_pred_te_std))\n",
    "\n",
    "print('RSME for y_error_tr is: ' + str(y_error_tr))\n",
    "print('RSME for y_error_te is: ' + str(y_error_te))\n",
    "print('RSME for y_error_tr_std is: ' + str(y_error_tr_std))\n",
    "print('RSME for y_error_te_std is: ' + str(y_error_te_std))\n",
    "\n",
    "# Plot the lines\n",
    "plt.plot(y_test.get(), label='y_test')\n",
    "plt.plot(y_pred_te.get(), label='y_pred_te')\n",
    "plt.plot(y_pred_te_std, label='y_pred_te_std')\n",
    "\n",
    "# Add legend and labels\n",
    "plt.legend()\n",
    "plt.xlabel('x')\n",
    "plt.ylabel('y')\n",
    "\n",
    "# Show the plot\n",
    "plt.show()"
   ]
  },
  {
   "cell_type": "code",
   "execution_count": 18,
   "metadata": {},
   "outputs": [
    {
     "name": "stdout",
     "output_type": "stream",
     "text": [
      "UCI wine dataset shape is: (178, 14)\n",
      "RSME for y_error_tr is: 7.090222089360773e-10\n",
      "RSME for y_error_te is: 768.7071959636044\n",
      "RSME for y_error_tr_std is: 1.0180598007614315e-07\n",
      "RSME for y_error_te_std is: 396.6874726575294\n"
     ]
    },
    {
     "data": {
      "image/png": "[encoded data removed]",
      "text/plain": [
       "<Figure size 432x288 with 1 Axes>"
      ]
     },
     "metadata": {
      "needs_background": "light"
     },
     "output_type": "display_data"
    }
   ],
   "source": [
    "import numpy as np\n",
    "\n",
    "# Load the wine dataset from UCI (replace the URL with the actual URL of the dataset)\n",
    "url = \"https://archive.ics.uci.edu/ml/machine-learning-databases/wine/wine.data\"\n",
    "data = np.genfromtxt(url, delimiter=',')\n",
    "print('UCI wine dataset shape is: ' + str(data.shape))\n",
    "\n",
    "x_all = data[:,:-1]\n",
    "y_all = data[:,-1]\n",
    "\n",
    "x, x_test, y, y_test = train_test_split(x_all, y_all, test_size=0.2)\n",
    "\n",
    "gr.fit(cp.array(x),cp.array(y))\n",
    "y_pred_tr, cov_, std_ = gr.predict(cp.array(x))\n",
    "y_pred_te, cov, std = gr.predict(cp.array(x_test))\n",
    "\n",
    "gp_std.fit(x, y)\n",
    "y_pred_tr_std = gp_std.predict(x)\n",
    "y_pred_te_std = gp_std.predict(x_test)\n",
    "\n",
    "y_error_tr = RMSE(cp.array(y), cp.array(y_pred_tr))\n",
    "y_error_te = RMSE(cp.array(y_test), cp.array(y_pred_te))\n",
    "y_error_tr_std = RMSE(cp.array(y), cp.array(y_pred_tr_std))\n",
    "y_error_te_std = RMSE(cp.array(y_test), cp.array(y_pred_te_std))\n",
    "\n",
    "print('RSME for y_error_tr is: ' + str(y_error_tr))\n",
    "print('RSME for y_error_te is: ' + str(y_error_te))\n",
    "print('RSME for y_error_tr_std is: ' + str(y_error_tr_std))\n",
    "print('RSME for y_error_te_std is: ' + str(y_error_te_std))\n",
    "\n",
    "# Plot the lines\n",
    "plt.plot(y_test, label='y_test')\n",
    "plt.plot(y_pred_te.get(), label='y_pred_te')\n",
    "plt.plot(y_pred_te_std, label='y_pred_te_std')\n",
    "\n",
    "# Add legend and labels\n",
    "plt.legend()\n",
    "plt.xlabel('x')\n",
    "plt.ylabel('y')\n",
    "\n",
    "# Show the plot\n",
    "plt.show()\n"
   ]
  }
 ],
 "metadata": {
  "kernelspec": {
   "display_name": "Python 3 (ipykernel)",
   "language": "python",
   "name": "python3"
  },
  "language_info": {
   "codemirror_mode": {
    "name": "ipython",
    "version": 3
   },
   "file_extension": ".py",
   "mimetype": "text/x-python",
   "name": "python",
   "nbconvert_exporter": "python",
   "pygments_lexer": "ipython3",
   "version": "3.9.7"
  }
 },
 "nbformat": 4,
 "nbformat_minor": 5
}
