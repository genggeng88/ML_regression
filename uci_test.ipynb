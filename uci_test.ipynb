{
 "cells": [
  {
   "cell_type": "code",
   "execution_count": 3,
   "id": "9beec004",
   "metadata": {},
   "outputs": [
    {
     "ename": "ModuleNotFoundError",
     "evalue": "No module named 'cupy'",
     "output_type": "error",
     "traceback": [
      "\u001b[0;31m---------------------------------------------------------------------------\u001b[0m",
      "\u001b[0;31mModuleNotFoundError\u001b[0m                       Traceback (most recent call last)",
      "\u001b[0;32m/var/folders/ns/7q3hd22d3zj3rbv059dzhp540000gn/T/ipykernel_32225/492227915.py\u001b[0m in \u001b[0;36m<module>\u001b[0;34m\u001b[0m\n\u001b[0;32m----> 1\u001b[0;31m \u001b[0;32mimport\u001b[0m \u001b[0mcupy\u001b[0m \u001b[0;32mas\u001b[0m \u001b[0mcp\u001b[0m\u001b[0;34m\u001b[0m\u001b[0;34m\u001b[0m\u001b[0m\n\u001b[0m\u001b[1;32m      2\u001b[0m \u001b[0;32mimport\u001b[0m \u001b[0mmatplotlib\u001b[0m\u001b[0;34m.\u001b[0m\u001b[0mpyplot\u001b[0m \u001b[0;32mas\u001b[0m \u001b[0mplt\u001b[0m\u001b[0;34m\u001b[0m\u001b[0;34m\u001b[0m\u001b[0m\n\u001b[1;32m      3\u001b[0m \u001b[0;34m\u001b[0m\u001b[0m\n\u001b[1;32m      4\u001b[0m \u001b[0;32mclass\u001b[0m \u001b[0mGaussianRegressionWithDerivatives\u001b[0m\u001b[0;34m(\u001b[0m\u001b[0;34m)\u001b[0m\u001b[0;34m:\u001b[0m\u001b[0;34m\u001b[0m\u001b[0;34m\u001b[0m\u001b[0m\n\u001b[1;32m      5\u001b[0m     \u001b[0;32mdef\u001b[0m \u001b[0m__init__\u001b[0m\u001b[0;34m(\u001b[0m\u001b[0mself\u001b[0m\u001b[0;34m,\u001b[0m \u001b[0mkernel\u001b[0m\u001b[0;34m=\u001b[0m\u001b[0;32mNone\u001b[0m\u001b[0;34m,\u001b[0m \u001b[0mdd_kernel\u001b[0m\u001b[0;34m=\u001b[0m\u001b[0;32mNone\u001b[0m\u001b[0;34m,\u001b[0m \u001b[0msigma\u001b[0m\u001b[0;34m=\u001b[0m\u001b[0;36m1e-6\u001b[0m\u001b[0;34m)\u001b[0m\u001b[0;34m:\u001b[0m\u001b[0;34m\u001b[0m\u001b[0;34m\u001b[0m\u001b[0m\n",
      "\u001b[0;31mModuleNotFoundError\u001b[0m: No module named 'cupy'"
     ]
    }
   ],
   "source": [
    "import numpy as np\n",
    "import matplotlib.pyplot as plt\n",
    "\n",
    "class GaussianRegressionWithDerivatives():\n",
    "    def __init__(self, kernel=None, dd_kernel=None, sigma=1e-6):\n",
    "        self.kernel = kernel\n",
    "        self.dd_kernel = dd_kernel\n",
    "        self.sigma = sigma\n",
    "        self.X = None\n",
    "        self.y = None\n",
    "        \n",
    "    def fit(self, X, y, dy):\n",
    "        self.X = X\n",
    "        self.y = y\n",
    "        self.dy = dy\n",
    "        # print('the shape of self.kernel(X, X) is: ' + str(self.kernel(X, X).shape))\n",
    "        self.K = self.kernel(X, X) + self.sigma**2 * np.eye(len(X))\n",
    "        # print('the shape of self.K is: ' + str(self.K.shape))\n",
    "        self.dK = self.dd_kernel(X, X) + self.sigma**2 * np.eye(len(X))\n",
    "        self.L = np.linalg.cholesky(self.K)\n",
    "        self.dL = np.linalg.cholesky(self.dK)\n",
    "        # let alpha = inv(K) * y => K * alpha = y => L*L.T * alpha = y => alpha = solve(L.T, solve(L, y))\n",
    "        self.alpha = np.linalg.solve(self.L.T, np.linalg.solve(self.L, y))\n",
    "        self.dalpha = np.linalg.solve(self.dL.T, np.linalg.solve(self.dL, dy))\n",
    "\n",
    "        return self\n",
    "        \n",
    "    def predict(self, Xtest):\n",
    "\n",
    "        K_train_test = self.kernel(self.X, Xtest)\n",
    "        y_pred = K_train_test.T @ self.alpha\n",
    "\n",
    "        dK_train_test = self.dd_kernel(self.X, Xtest)\n",
    "        dy_pred = dK_train_test.T @ self.dalpha\n",
    "\n",
    "        # L*v = K => v = inv(L)*K => v.T * v = K.T * inv(L.T) * inv(L) * K = K.T * inv(L*L.T) * K\n",
    "        # v = cp.linalg.solve(self.L, K_train_test)\n",
    "        # cov = self.kernel(Xtest, Xtest) - v.T @ v\n",
    "        # std = cp.sqrt(cp.diag(cov))\n",
    "\n",
    "        # return mean, cov, std\n",
    "        \n",
    "        return y_pred, dy_pred\n",
    "\n",
    "def d_mu(x):\n",
    "    return 0 \n",
    "\n",
    "def RBF(x1, x2, length_scale=1.0):\n",
    "    diff_mat = x1[:, cp.newaxis] - x2\n",
    "    return np.exp(-0.5 * diff_mat ** 2 / length_scale ** 2)\n",
    "\n",
    "def d_RBF(x1, x2, length_scale=1.0):\n",
    "    diff_mat = x1[:, cp.newaxis] - x2\n",
    "    return diff_mat * cp.exp(-0.5 * diff_mat ** 2 / length_scale ** 2)\n",
    "\n",
    "def dd_RBF(x1, x2, length_scale=1.0):\n",
    "    diff_mat = x1[:, cp.newaxis] - x2\n",
    "    return (1 - diff_mat**2/length_scale**2)/length_scale**2 * cp.exp(-0.5 * diff_mat ** 2 / length_scale ** 2)\n",
    "\n",
    "\n",
    "X = cp.array(cp.random.uniform(-5, 5, size=(50,)))\n",
    "y = cp.array(cp.sin(X) + cp.random.normal(0, 0.1, size=(50,)))\n",
    "dy = cp.array(cp.cos(X))\n",
    "\n",
    "gr = GaussianRegressionWithDerivatives(RBF, dd_RBF)\n",
    "gr.fit(X,y,dy)\n",
    "\n",
    "# use the same data set as training, y_pred and dy_pred should be similar to y and dy\n",
    "y_pred, dy_pred = gr.predict(X)\n",
    "\n",
    "print('y is: \\n' + str(y[:10]))\n",
    "print('y_pred is: \\n' + str(y_pred[:10]))\n",
    "print('dy is: \\n' + str(dy[:10]))\n",
    "print('dy_pred: \\n' + str(dy_pred[:10]))\n"
   ]
  },
  {
   "cell_type": "code",
   "execution_count": null,
   "id": "6fcabee5",
   "metadata": {},
   "outputs": [],
   "source": []
  }
 ],
 "metadata": {
  "kernelspec": {
   "display_name": "Python 3 (ipykernel)",
   "language": "python",
   "name": "python3"
  },
  "language_info": {
   "codemirror_mode": {
    "name": "ipython",
    "version": 3
   },
   "file_extension": ".py",
   "mimetype": "text/x-python",
   "name": "python",
   "nbconvert_exporter": "python",
   "pygments_lexer": "ipython3",
   "version": "3.9.13"
  }
 },
 "nbformat": 4,
 "nbformat_minor": 5
}
