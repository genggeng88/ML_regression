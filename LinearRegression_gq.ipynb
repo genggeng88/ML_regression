{
 "cells": [
  {
   "cell_type": "markdown",
   "id": "f0bed7e5",
   "metadata": {},
   "source": [
    "## Linear Regression & Gradient Descent"
   ]
  },
  {
   "cell_type": "markdown",
   "metadata": {},
   "source": [
    "### What is Linear regression?"
   ]
  },
  {
   "cell_type": "markdown",
   "metadata": {},
   "source": [
    "###  Linear regression is a statistical method that allows us to model the relationship between a dependent variable and one or more independent variables. The goal of linear regression is to fit a line to the data that best explains the relationship between the variables. This line can be represented by the equation of a straight line, which is known as the regression line."
   ]
  },
  {
   "cell_type": "markdown",
   "metadata": {},
   "source": [
    "Example of sovling slope and intercept directly use cupy.polyfit()"
   ]
  },
  {
   "cell_type": "code",
   "execution_count": 34,
   "id": "70290731",
   "metadata": {},
   "outputs": [
    {
     "data": {
      "image/png": "[encoded data removed]",
      "text/plain": [
       "<Figure size 432x288 with 1 Axes>"
      ]
     },
     "metadata": {
      "needs_background": "light"
     },
     "output_type": "display_data"
    }
   ],
   "source": [
    "import cupy as cp\n",
    "import matplotlib.pyplot as plt\n",
    "\n",
    "# linear regression directly use cupy.polyfit()\n",
    "X = cp.array([1, 2, 3, 4])\n",
    "y = cp.array([3, 5, 7, 9])\n",
    "slope,intercept = cp.polyfit(X, y, 1)\n",
    "\n",
    "def myfunc(x):\n",
    " return slope * x + intercept\n",
    "\n",
    "plt.scatter(X.get(), y.get())\n",
    "plt.plot(X.get(), myfunc(X).get())\n",
    "plt.ylim(ymin=0, ymax=10)\n",
    "plt.xlim(xmin=0, xmax=5)\n",
    "plt.xlabel(\"x value\")\n",
    "plt.ylabel (\"y value\")\n",
    "plt.show()\n"
   ]
  },
  {
   "cell_type": "markdown",
   "metadata": {},
   "source": [
    "Example of sovling slope(weights) and intercept(bias) use equations:<br><br>\n",
    "    $slope =\\dfrac{n * \\sum_{} x y - (\\sum_{} x) * (\\sum_{} y)}{n * \\sum_{} x^2 - (\\sum_{} x)^2}$\n",
    "    <br><br>intercept = mean(y) - slop * mean(X)\n",
    "    <br><br>n: number of data points"
   ]
  },
  {
   "cell_type": "code",
   "execution_count": 10,
   "metadata": {},
   "outputs": [
    {
     "name": "stdout",
     "output_type": "stream",
     "text": [
      "predictions1 with the equation: [[ 9.]\n",
      " [11.]\n",
      " [13.]]\n",
      "predictions2 with the cp.linalg.solve(): [ 9.85714286 12.28571429 14.71428571]\n"
     ]
    },
    {
     "data": {
      "text/plain": [
       "Text(0, 0.5, 'y value')"
      ]
     },
     "execution_count": 10,
     "metadata": {},
     "output_type": "execute_result"
    },
    {
     "data": {
      "image/png": "[encoded data removed]",
      "text/plain": [
       "<Figure size 432x288 with 1 Axes>"
      ]
     },
     "metadata": {
      "needs_background": "light"
     },
     "output_type": "display_data"
    }
   ],
   "source": [
    "# can also write a linear regression model\n",
    "import cupy as cp\n",
    "import matplotlib.pyplot as plt\n",
    "\n",
    "class LinearRegression:\n",
    "    def __init__(self):\n",
    "        self.weights1 = None\n",
    "        self.bias1 = None\n",
    "        self.weights2 = None\n",
    "        self.bias2 = None\n",
    "    \n",
    "    def fit(self, X, y):\n",
    "        #X = cp.array(X)\n",
    "        #y = cp.array(y)\n",
    "        #self.weights = cp.linalg.inv(X.T @ X) @ X.T @ y\n",
    "        \n",
    "        n = X.shape[0]\n",
    "        numerator = n * (y @ X) - cp.sum(X, axis = 0) * cp.sum(y)\n",
    "        denominator = n * X.T @ X - (cp.sum(X, axis = 0))**2\n",
    "        self.weights1 = numerator / denominator\n",
    "        self.bias1 = cp.mean(y) - cp.mean(X @ self.weights1)\n",
    "    \n",
    "        self.weights2 = cp.linalg.solve(X.T @ X, X.T @ y)\n",
    "        self.bias2 = cp.mean(y) - cp.mean(X @ self.weights2)\n",
    "\n",
    "\n",
    "    def predict1(self, X):\n",
    "        X = cp.array(X)\n",
    "        return X @ self.weights1 + self.bias1\n",
    "\n",
    "    def predict2(self, X):\n",
    "        X = cp.array(X)\n",
    "        return X @ self.weights2 + self.bias2\n",
    "\n",
    "\n",
    "model = LinearRegression()\n",
    "X = cp.array([[1],[2],[3]])\n",
    "y = cp.array([3,5,7])\n",
    "model.fit(X, y)\n",
    "test = [[4],[5],[6]]\n",
    "predictions1 = model.predict1(test)\n",
    "predictions2 = model.predict2(test)\n",
    "print('predictions1 with the equation: ' + str(predictions1))\n",
    "print('predictions2 with the cp.linalg.solve(): ' + str(predictions2))\n",
    "\n",
    "plt.scatter(X.get(), y.get())\n",
    "plt.plot(X.get(), model.predict1(X).get())\n",
    "plt.plot(X.get(), model.predict2(X).get())\n",
    "plt.legend(['prediction with equation','prediction by slove()','data'])\n",
    "plt.ylim(ymin=0, ymax=10)\n",
    "plt.xlim(xmin=0, xmax=5)\n",
    "plt.xlabel(\"x value\")\n",
    "plt.ylabel (\"y value\")\n"
   ]
  },
  {
   "cell_type": "markdown",
   "metadata": {},
   "source": [
    "### What is Gradient Descent?"
   ]
  },
  {
   "cell_type": "markdown",
   "metadata": {},
   "source": [
    "### Gradient descent is an optimization algorithm that is commonly used to find the minimum of a loss function in machine learning models. In linear regression, the loss function is typically defined as the sum of squared errors between the actual target values and the predicted values. The gradient descent algorithm updates the model parameters iteratively in the direction of the steepest decrease of the loss function, until the minimum is reached.\n",
    "### However, linear regression can be solved analytically without using gradient descent. One common method is the ordinary least squares (OLS) method, which finds the line of best fit by minimizing the sum of squared residuals between the observed target values and the predicted values. The OLS solution can be expressed in closed-form as the dot product of the inverse of the design matrix and the target vector."
   ]
  },
  {
   "cell_type": "markdown",
   "metadata": {},
   "source": [
    "Example of Linear Regression with Gradient Descent"
   ]
  },
  {
   "cell_type": "code",
   "execution_count": 68,
   "metadata": {},
   "outputs": [],
   "source": [
    "import cupy as cp\n",
    "import numpy as np\n",
    "\n",
    "class LinearRegressionGrad:\n",
    "    # change learning_rate to smaller value when prediction seems incorrect\n",
    "    # larger learning rate may miss the global optimal\n",
    "    def __init__(self, learning_rate=0.001, num_iterations=100):\n",
    "        self.learning_rate = learning_rate\n",
    "        self.num_iterations = num_iterations\n",
    "\n",
    "    def fit(self, X, y):\n",
    "        # Convert inputs to Cupy arrays\n",
    "        X = cp.array(X)\n",
    "        y = cp.array(y)\n",
    "\n",
    "        # Initialize weights and bias\n",
    "        self.weights = cp.ones(X.shape[1])\n",
    "        self.bias = cp.zeros(1)\n",
    "\n",
    "        # Iteratively update weights and bias\n",
    "        # use the Ordinary Least Squares (OLS) method, which finds the line of best fit by minimizing\n",
    "        # the sum of squared residuals between the observed target values and the predicted values\n",
    "        # OLS solution expressed in closed-form (inverse of the design matrix) @ (target vector)\n",
    "        for i in range(self.num_iterations):\n",
    "            y_pred = X @ self.weights + self.bias\n",
    "            residuals = y_pred - y\n",
    "            gradient_weights = X.T @ residuals\n",
    "            gradient_bias = cp.sum(residuals)\n",
    "\n",
    "            self.weights -= self.learning_rate * gradient_weights\n",
    "            self.bias -= self.learning_rate * gradient_bias\n",
    "            #print('self.weights is: ' + str(self.weights))\n",
    "            #print('self.bias is: ' + str(self.bias))\n",
    "\n",
    "    def predict(self, X):\n",
    "        X = cp.array(X)\n",
    "        return X @ self.weights + self.bias"
   ]
  },
  {
   "cell_type": "code",
   "execution_count": 41,
   "metadata": {},
   "outputs": [
    {
     "name": "stdout",
     "output_type": "stream",
     "text": [
      "self.weights is: [2.14384917]\n",
      "self.bias is: [0.67299698]\n",
      "predictions with input [[4],[5],[6]]: [ 9.24839367 11.39224284 13.53609201]\n"
     ]
    },
    {
     "data": {
      "text/plain": [
       "Text(0, 0.5, 'y value')"
      ]
     },
     "execution_count": 41,
     "metadata": {},
     "output_type": "execute_result"
    },
    {
     "data": {
      "image/png": "[encoded data removed]",
      "text/plain": [
       "<Figure size 432x288 with 1 Axes>"
      ]
     },
     "metadata": {
      "needs_background": "light"
     },
     "output_type": "display_data"
    }
   ],
   "source": [
    "lg = LinearRegressionGrad()\n",
    "lg.fit([[1],[2],[3]], [3,5,7])\n",
    "result = lg.predict([[4], [5], [6]])\n",
    "print('predictions with input [[4],[5],[6]]: ' + str(result))\n",
    "\n",
    "X = cp.array([[1],[2],[3]])\n",
    "y = cp.array([3,5,7])\n",
    "plt.scatter(X.get(), y.get())\n",
    "plt.plot(X.get(), lg.predict(X).get())\n",
    "plt.legend(['linear regression with gradient descent'])\n",
    "plt.ylim(ymin=0, ymax=10)\n",
    "plt.xlim(xmin=0, xmax=5)\n",
    "plt.xlabel(\"x value\")\n",
    "plt.ylabel (\"y value\")"
   ]
  },
  {
   "cell_type": "markdown",
   "metadata": {},
   "source": [
    "### What is Multiple Linear Regression?"
   ]
  },
  {
   "cell_type": "markdown",
   "metadata": {},
   "source": [
    "### A regression model is a statistical model that estimates the relationship between one dependent variable and one or more independent variables using a line (or a plane in the case of two or more independent variables).\n",
    "### Multiple linear regression is used to estimate the relationship between two or more independent variables and one dependent variable.\n",
    "\n",
    "Linear regression most often uses mean-square error (MSE) to calculate the error of the model. MSE is calculated by:\n",
    "\n",
    "1. measuring the distance of the observed y-values from the predicted y-values at each value of x;\n",
    "2. squaring each of these distances;\n",
    "3. calculating the mean of each of the squared distances.\n",
    "\n",
    "Linear regression fits a line to the data by finding the regression coefficient that results in the smallest MSE."
   ]
  },
  {
   "cell_type": "code",
   "execution_count": 43,
   "metadata": {},
   "outputs": [
    {
     "name": "stdout",
     "output_type": "stream",
     "text": [
      "self.weights is: [ 1.94636330e-13 -1.36642834e-13  6.66666667e-01]\n",
      "self.bias is: -1.7763568394002505e-15\n",
      "predictions with input [[5, 10, 15]]: [10.]\n"
     ]
    }
   ],
   "source": [
    "# can also write a linear regression model\n",
    "import cupy as cp\n",
    "import matplotlib.pyplot as plt\n",
    "\n",
    "class LinearRegression:\n",
    "    def __init__(self):\n",
    "        self.weights = None\n",
    "        self.bias = None\n",
    "    \n",
    "    def fit(self, X, y):\n",
    "        #X = cp.array(X)\n",
    "        #y = cp.array(y)\n",
    "        \n",
    "        #self.weights = cp.linalg.inv(X.T @ X) @ X.T @ y\n",
    "        self.weights = cp.linalg.solve(X.T @ X, X.T @ y)\n",
    "        self.bias = cp.mean(y) - cp.mean(X @ self.weights)\n",
    "        print('self.weights is: ' + str(self.weights))\n",
    "        print('self.bias is: ' + str(self.bias))\n",
    "\n",
    "    def predict(self, X):\n",
    "        X = cp.array(X)\n",
    "        return X @ self.weights + self.bias\n",
    "\n",
    "model = LinearRegression()\n",
    "X = cp.array([[1, 2, 3], [2, 3.8, 6], [3, 6, 9], [4, 8, 12]])\n",
    "y = cp.array([2, 4, 6, 8])\n",
    "model.fit(X, y)\n",
    "test = [[5, 10, 15]]\n",
    "predictions = model.predict(test)\n",
    "print('predictions with input [[5, 10, 15]]: ' + str(predictions))\n"
   ]
  },
  {
   "cell_type": "code",
   "execution_count": 69,
   "metadata": {},
   "outputs": [
    {
     "name": "stdout",
     "output_type": "stream",
     "text": [
      "MLR with grad predictions with input [[5, 10, 15]]: [10.08592582]\n"
     ]
    }
   ],
   "source": [
    "# MLR with grad\n",
    "lg = LinearRegressionGrad()\n",
    "X = cp.array([[1, 2, 3], [2, 3.8, 6], [3, 6, 9], [4, 8, 12]])\n",
    "y = cp.array([2, 4, 6, 8])\n",
    "lg.fit(X, y)\n",
    "result = lg.predict([[5, 10, 15]])\n",
    "print('MLR with grad predictions with input [[5, 10, 15]]: ' + str(result))"
   ]
  }
 ],
 "metadata": {
  "kernelspec": {
   "display_name": "Python 3 (ipykernel)",
   "language": "python",
   "name": "python3"
  },
  "language_info": {
   "codemirror_mode": {
    "name": "ipython",
    "version": 3
   },
   "file_extension": ".py",
   "mimetype": "text/x-python",
   "name": "python",
   "nbconvert_exporter": "python",
   "pygments_lexer": "ipython3",
   "version": "3.9.7"
  }
 },
 "nbformat": 4,
 "nbformat_minor": 5
}
