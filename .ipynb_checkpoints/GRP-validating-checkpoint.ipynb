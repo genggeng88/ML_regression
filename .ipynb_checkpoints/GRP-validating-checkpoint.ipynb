{
 "cells": [
  {
   "cell_type": "markdown",
   "id": "f0bed7e5",
   "metadata": {},
   "source": [
    "## RMSE \n",
    "\n",
    "RMSE (Root Mean Square Error) is used to evaluate the accuracy of a predictive model, particularly in regression analysis.\n",
    "\n",
    "The RMSE is calculated as:\n",
    "$$RMSE = \\sqrt{(1/n * \\sum(y_pred - y_actual)^2)}$$"
   ]
  },
  {
   "cell_type": "code",
   "execution_count": null,
   "id": "b583cd59",
   "metadata": {},
   "outputs": [],
   "source": []
  },
  {
   "cell_type": "code",
   "execution_count": null,
   "id": "78503d3d",
   "metadata": {},
   "outputs": [],
   "source": []
  }
 ],
 "metadata": {
  "kernelspec": {
   "display_name": "Python 3 (ipykernel)",
   "language": "python",
   "name": "python3"
  },
  "language_info": {
   "codemirror_mode": {
    "name": "ipython",
    "version": 3
   },
   "file_extension": ".py",
   "mimetype": "text/x-python",
   "name": "python",
   "nbconvert_exporter": "python",
   "pygments_lexer": "ipython3",
   "version": "3.9.13"
  }
 },
 "nbformat": 4,
 "nbformat_minor": 5
}
