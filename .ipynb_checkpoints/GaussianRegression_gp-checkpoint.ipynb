{
 "cells": [
  {
   "cell_type": "markdown",
   "id": "f0bed7e5",
   "metadata": {},
   "source": [
    "## Guassian Process Regression"
   ]
  },
  {
   "cell_type": "markdown",
   "id": "2d6f5b1e",
   "metadata": {},
   "source": [
    "### Gaussian Distribution vs. Gaussian Process"
   ]
  },
  {
   "cell_type": "markdown",
   "id": "96b2fc4d",
   "metadata": {},
   "source": [
    "Gaussian Distribution (Normal Distribution) describes the shape or probability of how data points in a dataset will be distributed, with the expression of: \n",
    "\n",
    "$$X \\sim N(\\mu, \\Sigma)$$\n",
    "\n",
    "Gaussian process a probability distribution over possible functions instead of data points. The idea is to model the unknown function that relates the input and output variables as a random draw from a Gaussian process. This allows us to make predictions on new input values by calculating the conditional distribution of the output variable given the input values and the training data. GP is fully expressed by its mean function and kernel function: \n",
    "\n",
    "$$X \\sim GP(m(x),  k(x,x'))$$\n",
    "\n",
    "$m(x)$: the mean function, describes the mean of any given data point x\n",
    "$k(x,x')$: the kernel function, describes the relationship between any given two data points x and x'.\n",
    "\n",
    "Kernel function: defines the covariance between different points in the input space, which determines how closely related these points are in terms of their output values. \n",
    "\n",
    "The most common kernel function is the radial basis function (RBF) kernel: \n",
    "\n",
    "$$k(x1, x2) = exp-\\dfrac{(x1 - x2)^2}{2L^2}$$\n",
    "\n",
    "One advantage of Gaussian regression is that it provides a probabilistic estimate of the predicted output, along with a measure of uncertainty. This is in contrast to other regression techniques, such as linear regression or decision trees, which only provide a point estimate of the predicted output. Additionally, Gaussian regression can be used for tasks such as Bayesian optimization, where the goal is to find the input values that maximize a given objective function."
   ]
  },
  {
   "cell_type": "code",
   "execution_count": 46,
   "id": "b2d5bad6",
   "metadata": {},
   "outputs": [
    {
     "name": "stderr",
     "output_type": "stream",
     "text": [
      "/home/922361294/anaconda3/lib/python3.9/site-packages/sklearn/gaussian_process/kernels.py:411: ConvergenceWarning: The optimal value found for dimension 0 of parameter k1__k2__k1__constant_value is close to the specified upper bound 100000.0. Increasing the bound and calling fit again may find a better value.\n",
      "  warnings.warn(\"The optimal value found for \"\n"
     ]
    },
    {
     "data": {
      "text/plain": [
       "Text(0, 0.5, 'Predicted')"
      ]
     },
     "execution_count": 46,
     "metadata": {},
     "output_type": "execute_result"
    },
    {
     "data": {
      "image/png": "[encoded data removed]",
      "text/plain": [
       "<Figure size 432x288 with 1 Axes>"
      ]
     },
     "metadata": {
      "needs_background": "light"
     },
     "output_type": "display_data"
    }
   ],
   "source": [
    "# GPR example using scikit-learn packages:\n",
    "# reference: https://towardsdatascience.com/getting-started-with-gaussian-process-regression-modeling-47e7982b534d \n",
    "from sklearn.datasets import load_boston\n",
    "from sklearn.model_selection import train_test_split\n",
    "from sklearn.metrics import r2_score\n",
    "from sklearn.gaussian_process import GaussianProcessRegressor\n",
    "from sklearn.gaussian_process.kernels import RBF, ConstantKernel, WhiteKernel\n",
    "import matplotlib.pyplot as plt\n",
    "\n",
    "X, y = load_boston(return_X_y=True)\n",
    "X_train, X_test, y_train, y_test = train_test_split(X, y, test_size=0.2)\n",
    "\n",
    "# use a combined kernel\n",
    "kernel = ConstantKernel(1.0) + ConstantKernel(1.0) * RBF(10) + WhiteKernel(5)\n",
    "model = GaussianProcessRegressor(kernel=kernel)\n",
    "model.fit(X_train, y_train)\n",
    "y_pred_tr, y_pred_tr_std = model.predict(X_train, return_std=True)\n",
    "y_pred_te, y_pred_te_std = model.predict(X_test, return_std=True)\n",
    "\n",
    "plt.figure()\n",
    "plt.errorbar(y_test, y_pred_te, yerr=y_pred_te_std, fmt='o')\n",
    "plt.title('Gaussian process regression, R2=%.2f' % r2_score(y_test, y_pred_te))\n",
    "plt.xlabel('Actual')\n",
    "plt.ylabel('Predicted')\n"
   ]
  },
  {
   "cell_type": "markdown",
   "id": "305dd9a9",
   "metadata": {},
   "source": [
    "Fit a GP to data:\n",
    " \n",
    "$$ \\hat{y} = \\mu(X_*) + K_{*X} (K_{XX} + \\sigma^2 I)^{-1} (y_{X} - \\mu(X)) $$\n",
    "\n",
    "$K_{*X}$ is the covariance matrix between test and training data, $K_{XX}$ is the covariance matrix between training and training data, $y_X$ is the predictive output from the training dataset."
   ]
  },
  {
   "cell_type": "code",
   "execution_count": 7,
   "id": "70290731",
   "metadata": {},
   "outputs": [
    {
     "name": "stdout",
     "output_type": "stream",
     "text": [
      "[1.40000034 0.59999354 9.40000547]\n",
      "[1.4 0.6 9.4]\n"
     ]
    }
   ],
   "source": [
    "# write my own kernel and GP model\n",
    "import cupy as cp\n",
    "import matplotlib.pyplot as plt\n",
    "\n",
    "# Radial basis function (RBF) kernel\n",
    "def RBF(x1, x2, length_scale=1.0):\n",
    "    x1=cp.array(x1)\n",
    "    x2=cp.array(x2)\n",
    "    return cp.exp(-0.5 * (x1 - x2)**2 / length_scale ** 2)\n",
    "'''\n",
    "x1 = [[1,1,1],[2,2,2],[3,3,3]]\n",
    "x2 = [[4,5,6], [4,5,6], [4,5,6]]\n",
    "y = RBF(x1, x2)\n",
    "print(y)\n",
    "'''\n",
    "\n",
    "# kernel/covariance matrix\n",
    "def kernel_matrix(kernel, X1, X2, L=1.0, sigma=1e-6):\n",
    "    # let's first assum X1 and X2 are both one-dimensional, can use cp.hstack() to transform them into one-dimension\n",
    "    size1 = X1.shape[0]\n",
    "    size2 = X2.shape[0]\n",
    "    X1 = cp.reshape(X1, [size1,1])\n",
    "    X2 = cp.reshape(X2, [1, size2])\n",
    "    m = X1.shape[0]\n",
    "    n = X2.shape[1]\n",
    "    X1_trans = cp.repeat(X1, n, axis=1)\n",
    "    X2_trans = cp.repeat(X2, m, axis=0) \n",
    "    #print(X1_trans)\n",
    "    #print(X2_trans)\n",
    "    return kernel(X1,X2,L)\n",
    "\n",
    "def mu(x):\n",
    "    return x\n",
    "\n",
    "def GP_fit(x_train, x_test, y_train, y_test, k, mu, kernel_matrix, L = 1.0, sigma = 1e-6):\n",
    "    # GP_fit with this function:\n",
    "    # y = mu(X_*) + K_{*X} (K_{XX} + \\sigma^2 I)^{-1} (y_{X} - \\mu(X))\n",
    "    \n",
    "    K_test_train = kernel_matrix(k, x_test, x_train, L, sigma)\n",
    "    K_train_train = kernel_matrix(k, x_train, x_train, L, sigma)\n",
    "\n",
    "    K_y = cp.linalg.inv(K_train_train - (sigma * cp.identity(x_train.shape[0]) ))\n",
    "    post_mean = mu(x_test) + ( (K_test_train @ K_y) @ (y_train - mu(x_train)) )\n",
    "    return post_mean\n",
    "\n",
    "'''\n",
    "x1 = cp.array([1,2,3,4])\n",
    "x2 = cp.array([5,6])\n",
    "kernel_mat = kernel_matrix(RBF, x1, x2)\n",
    "print(kernel_mat)\n",
    "'''\n",
    "\n",
    "X_train = cp.array([1., 7., 4.])\n",
    "X_test = cp.array([2.5, 5.3])\n",
    "\n",
    "y_train = cp.array([1.4,0.6,9.4])\n",
    "y_test = cp.array([4.,1.])\n",
    "\n",
    "# use the same dataset for both training and testing\n",
    "post_mean = GP_fit(X_train, X_train, y_train, y_train, RBF, mu, kernel_matrix)\n",
    "print(post_mean)\n",
    "print(y_train)\n",
    "\n"
   ]
  },
  {
   "cell_type": "markdown",
   "id": "c89cdb3c",
   "metadata": {},
   "source": [
    "The above GPR model works for 1-dimensional data input.\n",
    "\n",
    "Write a GPR model which works for multiple dimension data input."
   ]
  },
  {
   "cell_type": "code",
   "execution_count": 31,
   "id": "812c5832",
   "metadata": {},
   "outputs": [
    {
     "name": "stdout",
     "output_type": "stream",
     "text": [
      "y is: [2. 4. 6.]\n",
      "y_pred is: [1.99999801 3.99999602 5.99999401]\n"
     ]
    }
   ],
   "source": [
    "import cupy as cp\n",
    "\n",
    "class GaussianRegressor:\n",
    "    def __init__(self, kernel):\n",
    "        self.kernel = kernel\n",
    "        self.sigma = None\n",
    "        self.X = None\n",
    "        self.y = None\n",
    "\n",
    "    def fit(self, X, y, sigma=1e-6):\n",
    "        self.sigma = sigma\n",
    "        self.X = X\n",
    "        self.y = y\n",
    "\n",
    "    def predict(self, Xtest):\n",
    "        K_train_train = self.kernel(self.X, self.X) + self.sigma * cp.eye(len(self.X))\n",
    "        K_train_test = self.kernel(self.X, Xtest)\n",
    "        K_test_test = self.kernel(Xtest, Xtest) + self.sigma * cp.eye(len(Xtest))\n",
    "        mean = K_train_test.T @ cp.linalg.inv(K_train_train) @ self.y\n",
    "        \n",
    "        # cov = K_test_test - K_train_test.T @ cp.linalg.inv(K_train_train) @ K_train_test\n",
    "        # std = ?\n",
    "\n",
    "        return mean\n",
    "\n",
    "# Define the RBF kernel\n",
    "# now X1 and X2 are m1-n and m2-n dimensional matrix\n",
    "# X1 and X2 have the same column number n which denotes the number of featrues\n",
    "# X1 and X2 have different first dimension m1 and m2 which denote number of data point\n",
    "def rbf_kernel(X1, X2, length_scale=1.0):\n",
    "    cp.atleast_2d(X1)\n",
    "    cp.atleast_2d(X2)\n",
    "    s1 = X1.shape\n",
    "    s2 = X2.shape\n",
    "    \n",
    "    if (s1[1] != s2[1]):\n",
    "        print(\"ERROR! RBF input matices must have the same number of columns!\")\n",
    "        return\n",
    "\n",
    "    dists = cp.sum((X1[:, np.newaxis] - X2) ** 2, axis=2)\n",
    "    return cp.exp(-dists / (2 * length_scale ** 2))\n",
    "\n",
    "'''\n",
    "X1 = cp.array([[1.,2.,3.],[3.,4.,5.],[5.,6.,7.]])\n",
    "X2 = cp.array([[2.,3.,4.],[7.,8.,9.],[9.,10,11.]])\n",
    "cov = rbf_kernel(X1, X2)\n",
    "print(cov)\n",
    "\n",
    ">> output is:\n",
    "[[2.23130160e-01 3.53262857e-24 2.03109266e-42]\n",
    " [2.23130160e-01 3.77513454e-11 3.53262857e-24]\n",
    " [1.37095909e-06 2.47875218e-03 3.77513454e-11]]\n",
    "'''\n",
    "\n",
    "X1 = cp.array([[1.,2.,3.],[3.,4.,5.],[5.,6.,7.]])\n",
    "y = cp.array([2.,4.,6.])\n",
    "gr = GaussianRegressor(rbf_kernel)\n",
    "gr.fit(X1,y)\n",
    "\n",
    "# use the same data set as training, y_pred should be similar to y\n",
    "y_pred = gr.predict(X1)\n",
    "\n",
    "print('y is: ' + str(y))\n",
    "print('y_pred is: ' + str(y_pred))\n"
   ]
  },
  {
   "cell_type": "markdown",
   "id": "c841152c",
   "metadata": {},
   "source": [
    "## GPR with Cholesky"
   ]
  },
  {
   "cell_type": "markdown",
   "id": "b929c135",
   "metadata": {},
   "source": [
    "### what is Cholesky?"
   ]
  },
  {
   "cell_type": "markdown",
   "id": "a9697218",
   "metadata": {},
   "source": [
    "Cholesky decomposition (or factorization) is a method for efficiently solving a linear system of equations that is symmetric and positive definite. It decomposes the positive definite matrix into the product of a lower triangular matrix and its transpose. This decomposition can be used to solve the linear system using forward and backward substitution, which is more efficient than other methods like LU decomposition or Gaussian elimination.\n",
    "\n",
    "The Cholesky decomposition of a positive definite matrix A can be written as:\n",
    "\n",
    "A = L * L^T\n",
    "\n",
    "where L is a lower triangular matrix. The elements of L are calculated using the following equations:\n",
    "\n",
    "L_ii = sqrt(A_ii - ∑j<i L_ij^2)\n",
    "\n",
    "L_ij = (A_ij - ∑k<j L_ik * L_jk) / L_jj\n",
    "\n",
    "where i, j, and k are indices, and A_ij is the element of A at row i and column j.\n",
    "\n",
    "The Cholesky decomposition can be used to solve a linear system of equations Ax = b, where A is a positive definite matrix. First, the Cholesky decomposition is computed, then the system can be solved in two steps:\n",
    "\n",
    "Forward substitution: Solve Ly = b for y using forward substitution.\n",
    "Backward substitution: Solve L^Tx = y for x using backward substitution.\n",
    "The Cholesky decomposition is numerically stable and computationally efficient, especially for large and sparse matrices. It is commonly used in scientific and engineering applications, including optimization, statistics, and machine learning."
   ]
  },
  {
   "cell_type": "code",
   "execution_count": 3,
   "id": "94f4a97a",
   "metadata": {},
   "outputs": [
    {
     "name": "stdout",
     "output_type": "stream",
     "text": [
      "y is: [2. 4. 6.]\n",
      "y_pred is: (array([2., 4., 6.]), array([[1.00008890e-12, 0.00000000e+00, 0.00000000e+00],\n",
      "       [0.00000000e+00, 1.00019992e-12, 0.00000000e+00],\n",
      "       [0.00000000e+00, 0.00000000e+00, 1.00008890e-12]]))\n"
     ]
    }
   ],
   "source": [
    "import numpy as np\n",
    "\n",
    "class GaussianProcessRegression:\n",
    "    def __init__(self, kernel, sigma_n=1e-6):\n",
    "        self.kernel = kernel\n",
    "        self.sigma_n = sigma_n\n",
    "    \n",
    "    def fit(self, X, y):\n",
    "        self.X = X\n",
    "        self.y = y\n",
    "        self.K = self.kernel(X, X) + self.sigma_n**2 * np.eye(len(X))\n",
    "        self.L = np.linalg.cholesky(self.K)\n",
    "        self.alpha = np.linalg.solve(self.L.T, np.linalg.solve(self.L, y))\n",
    "    \n",
    "    def predict(self, X_star):\n",
    "        K_star = self.kernel(self.X, X_star)\n",
    "        f_star_mean = K_star.T @ self.alpha\n",
    "        v = np.linalg.solve(self.L, K_star)\n",
    "        f_star_cov = self.kernel(X_star, X_star) - v.T @ v\n",
    "        return f_star_mean, f_star_cov\n",
    "        \n",
    "def rbf_kernel(X1, X2, length_scale=1.0):\n",
    "    np.atleast_2d(X1)\n",
    "    np.atleast_2d(X2)\n",
    "    s1 = X1.shape\n",
    "    s2 = X2.shape\n",
    "    \n",
    "    if (s1[1] != s2[1]):\n",
    "        print(\"ERROR! RBF input matices must have the same number of columns!\")\n",
    "        return\n",
    "\n",
    "    dists = np.sum((X1[:, np.newaxis] - X2) ** 2, axis=2)\n",
    "    return np.exp(-dists / (2 * length_scale ** 2))\n",
    "\n",
    "X1 = np.array([[1.,2.,3.],[3.,4.,5.],[5.,6.,7.]])\n",
    "y = np.array([2.,4.,6.])\n",
    "gr = GaussianProcessRegression(rbf_kernel)\n",
    "gr.fit(X1,y)\n",
    "\n",
    "# use the same data set as training, y_pred should be similar to y\n",
    "y_pred, f_star_cov = gr.predict(X1)\n",
    "\n",
    "print('y is: ' + str(y))\n",
    "print('y_pred is: ' + str(y_pred))"
   ]
  },
  {
   "cell_type": "markdown",
   "id": "26163899",
   "metadata": {},
   "source": [
    "## GPR with Derivatives\n",
    "A Gaussian process is a collection of random variables, any finite subset of which has a joint Gaussian distribution. In machine learning, it is often used as a probabilistic model for regression and classification tasks, where the goal is to learn a mapping from input variables to output variables.\n",
    "\n",
    "In some cases, it can be useful to model not just the output variables, but also their derivatives. This can be done using a variant of the Gaussian process called a Gaussian process with derivatives (GPD). In a GPD, the joint distribution over the function values and their derivatives is still Gaussian, but the covariance function is modified to include information about the derivatives."
   ]
  },
  {
   "cell_type": "markdown",
   "id": "1491fada",
   "metadata": {},
   "source": [
    "A Gaussian regression with derivatives model is a type of machine learning model that uses Gaussian functions to model the relationship between a set of input variables and a target variable, as well as the derivatives of the target variable with respect to the input variables. The model is typically used for regression problems, where the goal is to predict a continuous output variable.\n",
    "\n",
    "The basic form of the model is:\n",
    "\n",
    "y(x) = w0 + w1G1(x) + w2G2(x) + ... + wN*GN(x)\n",
    "\n",
    "where y(x) is the target variable, x is a vector of input variables, and G1(x), G2(x), ..., GN(x) are Gaussian functions centered at different points in the input space. The parameters w0, w1, ..., wN are the weights that are learned during training.\n",
    "\n",
    "In addition to modeling the target variable, the model also includes terms for the derivatives of the target variable with respect to the input variables. These terms are given by:\n",
    "\n",
    "dy(x)/dx1 = a1G1'(x) + a2G2'(x) + ... + aNGN'(x)\n",
    "dy(x)/dx2 = b1G1'(x) + b2G2'(x) + ... + bNGN'(x)\n",
    "...\n",
    "dy(x)/dxN = z1G1'(x) + z2G2'(x) + ... + zN*GN'(x)\n",
    "\n",
    "where G1'(x), G2'(x), ..., GN'(x) are the first derivatives of the Gaussian functions, and a1, a2, ..., aN, b1, b2, ..., bN, ..., z1, z2, ..., zN are the weights for the derivative terms.\n",
    "\n",
    "The final form of the model is:\n",
    "\n",
    "y(x) = w0 + w1G1(x) + w2G2(x) + ... + wN*GN(x) +\n",
    "dy(x)/dx1 + dy(x)/dx2 + ... + dy(x)/dxN\n",
    "\n",
    "During training, the weights w0, w1, ..., wN and a1, a2, ..., aN, b1, b2, ..., bN, ..., z1, z2, ..., zN are learned by minimizing the mean squared error between the model predictions and the true values of the target variable. The resulting model can then be used to predict the target variable and its derivatives for new inputs."
   ]
  },
  {
   "cell_type": "code",
   "execution_count": null,
   "id": "8d456232",
   "metadata": {},
   "outputs": [],
   "source": [
    "from sklearn.base import BaseEstimator, RegressorMixin\n",
    "from sklearn.gaussian_process import GaussianProcessRegressor\n",
    "from sklearn.gaussian_process.kernels import RBF, WhiteKernel\n",
    "import numpy as np\n",
    "\n",
    "class GaussianRegressionWithDerivatives(BaseEstimator, RegressorMixin):\n",
    "    def __init__(self, kernel=None, alpha=0.0):\n",
    "        self.kernel = kernel\n",
    "        self.alpha = alpha\n",
    "        \n",
    "    def fit(self, X, y):\n",
    "        n_samples, n_features = X.shape\n",
    "        \n",
    "        # Create kernel for Gaussian process regression\n",
    "        if self.kernel is None:\n",
    "            self.kernel = RBF(length_scale=1.0, length_scale_bounds=(1e-2, 1e2)) + \\\n",
    "                          WhiteKernel(noise_level=1.0, noise_level_bounds=(1e-10, 1e2))\n",
    "        self.gpr = GaussianProcessRegressor(kernel=self.kernel, alpha=self.alpha, normalize_y=True)\n",
    "        \n",
    "        # Compute derivatives of y with respect to each feature\n",
    "        dy = np.zeros((n_samples, n_features))\n",
    "        for i in range(n_features):\n",
    "            X1 = np.delete(X, i, axis=1)\n",
    "            y1 = self.gpr.fit(X1, np.gradient(y, axis=0)[:, i]).predict(X1, return_std=False)\n",
    "            dy[:, i] = np.gradient(y1, axis=0) / np.gradient(X[:, i], axis=0)\n",
    "            \n",
    "        # Fit the model with y and its derivatives\n",
    "        X_aug = np.concatenate((X, dy), axis=1)\n",
    "        self.gpr.fit(X_aug, y)\n",
    "        return self\n",
    "        \n",
    "    def predict(self, X):\n",
    "        n_samples, n_features = X.shape\n",
    "        \n",
    "        # Compute derivatives of X\n",
    "        dX = np.zeros((n_samples, n_features))\n",
    "        for i in range(n_features):\n",
    "            dX[:, i] = np.gradient(X[:, i], axis=0)\n",
    "        \n",
    "        # Predict y and its derivatives\n",
    "        X_aug = np.concatenate((X, dX), axis=1)\n",
    "        y_pred = self.gpr.predict(X_aug, return_std=False)\n",
    "        dy_pred = self.gpr.predict(X_aug, return_std=False, jac=True)[1]\n",
    "        \n",
    "        return y_pred, dy_pred\n"
   ]
  },
  {
   "cell_type": "markdown",
   "id": "57477802",
   "metadata": {},
   "source": [
    "The code defines a GaussianRegressionWithDerivatives class that inherits from scikit-learn's BaseEstimator and RegressorMixin classes. The class takes a kernel parameter, which specifies the kernel function to use for the Gaussian process regression, and an alpha parameter, which controls the amount of regularization to apply.\n",
    "\n",
    "The fit method fits the model to the training data. It first creates a GaussianProcessRegressor object with the specified kernel and regularization parameters. It then computes the derivatives of the target variable with respect to each input feature by fitting a separate Gaussian process regression for each derivative. The resulting derivatives are concatenated with the original input data to form a new augmented feature set, which is then used to fit the final Gaussian process regression model.\n",
    "\n",
    "The predict method takes a set of input data and returns the predicted target variable and its derivatives. It first computes the derivatives of the input data and augments the data with these derivatives. It then uses the fitted Gaussian process regression model to make predictions for the target variable and its derivatives, and returns these predictions as a tuple."
   ]
  },
  {
   "cell_type": "markdown",
   "id": "066ff39a",
   "metadata": {},
   "source": []
  },
  {
   "cell_type": "markdown",
   "id": "1fea8a00",
   "metadata": {},
   "source": []
  },
  {
   "cell_type": "markdown",
   "id": "4aac40bf",
   "metadata": {},
   "source": []
  },
  {
   "cell_type": "markdown",
   "id": "edcdfffb",
   "metadata": {},
   "source": []
  },
  {
   "cell_type": "markdown",
   "id": "c6de14a2",
   "metadata": {},
   "source": []
  },
  {
   "cell_type": "markdown",
   "id": "4405ca82",
   "metadata": {},
   "source": []
  },
  {
   "cell_type": "code",
   "execution_count": 4,
   "id": "fd22a5c9",
   "metadata": {},
   "outputs": [
    {
     "name": "stdout",
     "output_type": "stream",
     "text": [
      "[[3.67879441e-01 2.31952283e-16 1.60381089e-28]\n",
      " [3.67879441e-01 1.12535175e-07 2.31952283e-16]\n",
      " [1.23409804e-04 1.83156389e-02 1.12535175e-07]]\n"
     ]
    },
    {
     "data": {
      "text/plain": [
       "\"\\n# Make predictions on a grid of test points\\nx1 = np.linspace(-3, 3, 50)\\nx2 = np.linspace(-3, 3, 50)\\nxx1, xx2 = np.meshgrid(x1, x2)\\nXtest = np.column_stack([xx1.ravel(), xx2.ravel()])\\ny_pred, sigma = gpr.predict(Xtest, return_std=True)\\n\\n# Plot the results\\nplt.figure()\\nplt.scatter(X[:, 0], X[:, 1], c=y, cmap='viridis')\\nplt.colorbar()\\nplt.xlabel('X1')\\nplt.ylabel('X2')\\nplt.title('Training Data')\\nplt.show()\\n\\nplt.figure()\\nplt.scatter(X[:, 0], X[:, 1], c=y, cmap='viridis')\\nplt.colorbar()\\nplt.contourf(x1, x2, y_pred.reshape(50, 50), alpha=0.5)\\nplt.xlabel('X1')\\nplt.ylabel('X2')\\nplt.title('Predictions')\\nplt.show()\\n\""
      ]
     },
     "execution_count": 4,
     "metadata": {},
     "output_type": "execute_result"
    }
   ],
   "source": [
    "import numpy as np\n",
    "import matplotlib.pyplot as plt\n",
    "from sklearn.gaussian_process import GaussianProcessRegressor\n",
    "from sklearn.gaussian_process.kernels import RBF\n",
    "\n",
    "# Generate some 2-dimensional data\n",
    "np.random.seed(0)\n",
    "X = np.random.uniform(-3, 3, size=(20, 2))\n",
    "y = np.sin(X[:, 0]) + np.cos(X[:, 1]) + np.random.normal(scale=0.1, size=X.shape[0])\n",
    "\n",
    "# Define the Gaussian process regression model\n",
    "kernel = RBF(length_scale=1.0)\n",
    "gpr = GaussianProcessRegressor(kernel=kernel, alpha=0.1)\n",
    "\n",
    "X1 = np.array([[1.,2.],[3.,4.],[5.,6.]])\n",
    "X2 = np.array([[2.,3.],[7.,8.],[9.,10]])\n",
    "K = kernel(X1, X2)\n",
    "print(K)\n",
    "\n",
    "# Fit the model to the data\n",
    "# gpr.fit(X, y)\n",
    "\n",
    "'''\n",
    "# Make predictions on a grid of test points\n",
    "x1 = np.linspace(-3, 3, 50)\n",
    "x2 = np.linspace(-3, 3, 50)\n",
    "xx1, xx2 = np.meshgrid(x1, x2)\n",
    "Xtest = np.column_stack([xx1.ravel(), xx2.ravel()])\n",
    "y_pred, sigma = gpr.predict(Xtest, return_std=True)\n",
    "\n",
    "# Plot the results\n",
    "plt.figure()\n",
    "plt.scatter(X[:, 0], X[:, 1], c=y, cmap='viridis')\n",
    "plt.colorbar()\n",
    "plt.xlabel('X1')\n",
    "plt.ylabel('X2')\n",
    "plt.title('Training Data')\n",
    "plt.show()\n",
    "\n",
    "plt.figure()\n",
    "plt.scatter(X[:, 0], X[:, 1], c=y, cmap='viridis')\n",
    "plt.colorbar()\n",
    "plt.contourf(x1, x2, y_pred.reshape(50, 50), alpha=0.5)\n",
    "plt.xlabel('X1')\n",
    "plt.ylabel('X2')\n",
    "plt.title('Predictions')\n",
    "plt.show()\n",
    "'''"
   ]
  },
  {
   "cell_type": "code",
   "execution_count": 2,
   "id": "3bb36136",
   "metadata": {},
   "outputs": [
    {
     "data": {
      "image/png": "[encoded data removed]",
      "text/plain": [
       "<Figure size 432x288 with 2 Axes>"
      ]
     },
     "metadata": {
      "needs_background": "light"
     },
     "output_type": "display_data"
    },
    {
     "data": {
      "image/png": "[encoded data removed]",
      "text/plain": [
       "<Figure size 432x288 with 2 Axes>"
      ]
     },
     "metadata": {
      "needs_background": "light"
     },
     "output_type": "display_data"
    }
   ],
   "source": [
    "import numpy as np\n",
    "from scipy.stats import multivariate_normal\n",
    "\n",
    "class GaussianRegressor:\n",
    "    def __init__(self, kernel):\n",
    "        self.kernel = kernel\n",
    "        self.alpha = None\n",
    "        self.X = None\n",
    "        self.y = None\n",
    "\n",
    "    def fit(self, X, y, alpha=1e-6):\n",
    "        self.alpha = alpha\n",
    "        self.X = X\n",
    "        self.y = y\n",
    "\n",
    "    def predict(self, Xtest):\n",
    "        K = self.kernel(self.X, self.X) + self.alpha * np.eye(len(self.X))\n",
    "        Kstar = self.kernel(self.X, Xtest)\n",
    "        Kstarstar = self.kernel(Xtest, Xtest) + 1e-8 * np.eye(len(Xtest))\n",
    "        mean = Kstar.T @ np.linalg.inv(K) @ self.y\n",
    "        cov = Kstarstar - Kstar.T @ np.linalg.inv(K) @ Kstar\n",
    "        return mean, cov\n",
    "\n",
    "# Example usage with 2-dimensional data\n",
    "X = np.random.uniform(-3, 3, size=(20, 2))\n",
    "y = np.sin(X[:, 0]) + np.cos(X[:, 1]) + np.random.normal(scale=0.1, size=X.shape[0])\n",
    "\n",
    "# Define the RBF kernel\n",
    "def rbf_kernel(X1, X2, length_scale=1.0):\n",
    "    dists = np.sum((X1[:, np.newaxis] - X2) ** 2, axis=2)\n",
    "    return np.exp(-dists / (2 * length_scale ** 2))\n",
    "\n",
    "# Create the GaussianRegressor object and fit the model to the data\n",
    "regressor = GaussianRegressor(kernel=rbf_kernel)\n",
    "regressor.fit(X, y)\n",
    "\n",
    "# Make predictions on a grid of test points\n",
    "x1 = np.linspace(-3, 3, 50)\n",
    "x2 = np.linspace(-3, 3, 50)\n",
    "xx1, xx2 = np.meshgrid(x1, x2)\n",
    "Xtest = np.column_stack([xx1.ravel(), xx2.ravel()])\n",
    "y_pred, cov = regressor.predict(Xtest)\n",
    "\n",
    "# Plot the results\n",
    "import matplotlib.pyplot as plt\n",
    "\n",
    "plt.figure()\n",
    "plt.scatter(X[:, 0], X[:, 1], c=y, cmap='viridis')\n",
    "plt.colorbar()\n",
    "plt.xlabel('X1')\n",
    "plt.ylabel('X2')\n",
    "plt.title('Training Data')\n",
    "plt.show()\n",
    "\n",
    "plt.figure()\n",
    "plt.scatter(X[:, 0], X[:, 1], c=y, cmap='viridis')\n",
    "plt.colorbar()\n",
    "plt.contourf(x1, x2, y_pred.reshape(50, 50), alpha=0.5)\n",
    "plt.xlabel('X1')\n",
    "plt.ylabel('X2')\n",
    "plt.title('Predictions')\n",
    "plt.show()"
   ]
  }
 ],
 "metadata": {
  "kernelspec": {
   "display_name": "Python 3 (ipykernel)",
   "language": "python",
   "name": "python3"
  },
  "language_info": {
   "codemirror_mode": {
    "name": "ipython",
    "version": 3
   },
   "file_extension": ".py",
   "mimetype": "text/x-python",
   "name": "python",
   "nbconvert_exporter": "python",
   "pygments_lexer": "ipython3",
   "version": "3.9.13"
  }
 },
 "nbformat": 4,
 "nbformat_minor": 5
}
