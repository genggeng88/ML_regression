{
 "cells": [
  {
   "cell_type": "markdown",
   "id": "f0bed7e5",
   "metadata": {},
   "source": [
    "## Guassian Process Regression"
   ]
  },
  {
   "cell_type": "markdown",
   "metadata": {},
   "source": [
    "### Gaussian Distribution vs. Gaussian Process"
   ]
  },
  {
   "cell_type": "markdown",
   "metadata": {},
   "source": [
    "Gaussian Distribution (Normal Distribution) describes the shape or probability of how data points in a dataset will be distributed, with the expression of: \n",
    "\n",
    "$$X \\sim N(\\mu, \\Sigma)$$\n",
    "\n",
    "Gaussian process a probability distribution over possible functions instead of data points. The idea is to model the unknown function that relates the input and output variables as a random draw from a Gaussian process. This allows us to make predictions on new input values by calculating the conditional distribution of the output variable given the input values and the training data. GP is fully expressed by its mean function and kernel function: \n",
    "\n",
    "$$X \\sim GP(m(x),  k(x,x'))$$\n",
    "\n",
    "$m(x)$: the mean function, describes the mean of any given data point x\n",
    "$k(x,x')$: the kernel function, describes the relationship between any given two data points x and x'.\n",
    "\n",
    "Kernel function: defines the covariance between different points in the input space, which determines how closely related these points are in terms of their output values. \n",
    "\n",
    "The most common kernel function is the radial basis function (RBF) kernel: \n",
    "\n",
    "$$k(x1, x2) = exp-\\dfrac{(x1 - x2)^2}{2L^2}$$\n",
    "\n",
    "One advantage of Gaussian regression is that it provides a probabilistic estimate of the predicted output, along with a measure of uncertainty. This is in contrast to other regression techniques, such as linear regression or decision trees, which only provide a point estimate of the predicted output. Additionally, Gaussian regression can be used for tasks such as Bayesian optimization, where the goal is to find the input values that maximize a given objective function."
   ]
  },
  {
   "cell_type": "code",
   "execution_count": 7,
   "metadata": {},
   "outputs": [
    {
     "name": "stderr",
     "output_type": "stream",
     "text": [
      "/home/922361294/anaconda3/lib/python3.9/site-packages/sklearn/gaussian_process/kernels.py:411: ConvergenceWarning: The optimal value found for dimension 0 of parameter k1__k2__k1__constant_value is close to the specified upper bound 100000.0. Increasing the bound and calling fit again may find a better value.\n",
      "  warnings.warn(\"The optimal value found for \"\n"
     ]
    },
    {
     "data": {
      "text/plain": [
       "Text(0, 0.5, 'Predicted')"
      ]
     },
     "execution_count": 7,
     "metadata": {},
     "output_type": "execute_result"
    },
    {
     "data": {
      "image/png": "[encoded data removed]",
      "text/plain": [
       "<Figure size 432x288 with 1 Axes>"
      ]
     },
     "metadata": {
      "needs_background": "light"
     },
     "output_type": "display_data"
    }
   ],
   "source": [
    "# GPR example using scikit-learn packages:\n",
    "# reference: https://towardsdatascience.com/getting-started-with-gaussian-process-regression-modeling-47e7982b534d \n",
    "from sklearn.datasets import load_boston\n",
    "from sklearn.model_selection import train_test_split\n",
    "from sklearn.metrics import r2_score\n",
    "from sklearn.gaussian_process import GaussianProcessRegressor\n",
    "from sklearn.gaussian_process.kernels import RBF, ConstantKernel, WhiteKernel\n",
    "import matplotlib.pyplot as plt\n",
    "\n",
    "X, y = load_boston(return_X_y=True)\n",
    "X_train, X_test, y_train, y_test = train_test_split(X, y, test_size=0.2)\n",
    "\n",
    "# use a combined kernel\n",
    "kernel = ConstantKernel(1.0) + ConstantKernel(1.0) * RBF(10) + WhiteKernel(5)\n",
    "model = GaussianProcessRegressor(kernel=kernel)\n",
    "model.fit(X_train, y_train)\n",
    "y_pred_tr, y_pred_tr_std = model.predict(X_train, return_std=True)\n",
    "y_pred_te, y_pred_te_std = model.predict(X_test, return_std=True)\n",
    "\n",
    "plt.figure()\n",
    "plt.errorbar(y_test, y_pred_te, yerr=y_pred_te_std, fmt='o')\n",
    "plt.title('Gaussian process regression, R2=%.2f' % r2_score(y_test, y_pred_te))\n",
    "plt.xlabel('Actual')\n",
    "plt.ylabel('Predicted')\n"
   ]
  },
  {
   "cell_type": "markdown",
   "metadata": {},
   "source": [
    "Fit a GP to data:\n",
    " \n",
    "$$ \\hat{y} = \\mu(X_*) + K_{*X} (K_{XX} + \\sigma^2 I)^{-1} (y_{X} - \\mu(X)) $$\n",
    "\n",
    "$K_{*X}$ is the covariance matrix between test and training data, $K_{XX}$ is the covariance matrix between training and training data, $y_X$ is the predictive output from the training dataset."
   ]
  },
  {
   "cell_type": "code",
   "execution_count": 8,
   "id": "70290731",
   "metadata": {},
   "outputs": [
    {
     "name": "stdout",
     "output_type": "stream",
     "text": [
      "[1.40000034 0.59999354 9.40000547]\n",
      "[1.4 0.6 9.4]\n"
     ]
    }
   ],
   "source": [
    "# write my own kernel and GP model\n",
    "import cupy as cp\n",
    "import matplotlib.pyplot as plt\n",
    "\n",
    "# Radial basis function (RBF) kernel\n",
    "def RBF(x1, x2, length_scale=1.0):\n",
    "    x1=cp.array(x1)\n",
    "    x2=cp.array(x2)\n",
    "    return cp.exp(-0.5 * (x1 - x2)**2 / length_scale ** 2)\n",
    "'''\n",
    "x1 = [[1,1,1],[2,2,2],[3,3,3]]\n",
    "x2 = [[4,5,6], [4,5,6], [4,5,6]]\n",
    "y = RBF(x1, x2)\n",
    "print(y)\n",
    "'''\n",
    "\n",
    "# kernel/covariance matrix\n",
    "def kernel_matrix(kernel, X1, X2, L=1.0, sigma=1e-6):\n",
    "    # let's first assum X1 and X2 are both one-dimensional, can use cp.hstack() to transform them into one-dimension\n",
    "    size1 = X1.shape[0]\n",
    "    size2 = X2.shape[0]\n",
    "    X1 = cp.reshape(X1, [size1,1])\n",
    "    X2 = cp.reshape(X2, [1, size2])\n",
    "    m = X1.shape[0]\n",
    "    n = X2.shape[1]\n",
    "    X1_trans = cp.repeat(X1, n, axis=1)\n",
    "    X2_trans = cp.repeat(X2, m, axis=0) \n",
    "    #print(X1_trans)\n",
    "    #print(X2_trans)\n",
    "    return kernel(X1,X2,L)\n",
    "\n",
    "def mu(x):\n",
    "    return x\n",
    "\n",
    "def GP_fit(x_train, x_test, y_train, y_test, k, mu, kernel_matrix, L = 1.0, sigma = 1e-6):\n",
    "    # GP_fit with this function:\n",
    "    # y = mu(X_*) + K_{*X} (K_{XX} + \\sigma^2 I)^{-1} (y_{X} - \\mu(X))\n",
    "    \n",
    "    K_train_test = kernel_matrix(k, x_test, x_train, L, sigma)\n",
    "    K_train_train = kernel_matrix(k, x_train, x_train, L, sigma)\n",
    "\n",
    "    K_y = cp.linalg.inv(K_train_train - (sigma * cp.identity(x_train.shape[0]) ))\n",
    "    post_mean = mu(x_test) + ( (K_train_test @ K_y) @ (y_train - mu(x_train)) )\n",
    "    return post_mean\n",
    "\n",
    "'''\n",
    "x1 = cp.array([1,2,3,4])\n",
    "x2 = cp.array([5,6])\n",
    "kernel_mat = kernel_matrix(RBF, x1, x2)\n",
    "print(kernel_mat)\n",
    "'''\n",
    "\n",
    "X_train = cp.array([1., 7., 4.])\n",
    "X_test = cp.array([2.5, 5.3])\n",
    "\n",
    "y_train = cp.array([1.4,0.6,9.4])\n",
    "y_test = cp.array([4.,1.])\n",
    "\n",
    "# use the same dataset for both training and testing\n",
    "post_mean = GP_fit(X_train, X_train, y_train, y_train, RBF, mu, kernel_matrix)\n",
    "print(post_mean)\n",
    "print(y_train)\n",
    "\n"
   ]
  },
  {
   "cell_type": "markdown",
   "metadata": {},
   "source": [
    "The above GPR model works for 1-dimensional data input.\n",
    "\n",
    "Write a GPR model which works for multiple dimension data input."
   ]
  },
  {
   "cell_type": "markdown",
   "metadata": {},
   "source": [
    "One question to be answered: <b>Do I need to add mean(x_train) and mean(x_test) in GPR?</b>\n",
    "\n",
    "In Gaussian Process Regression, it is not necessary to subtract the mean of train_x or test_x.\n",
    "\n",
    "The prior over functions is assumed to be a zero-mean Gaussian process. This means that the mean of the data is already accounted for by the kernel function. The kernel function specifies the covariance between points in the input space, and it incorporates both the mean and variance of the data.\n",
    "\n",
    "Thus, it is common to center the training data by subtracting the mean of the train_x from both the train_x and test_x. This can help improve numerical stability and make the optimization problem more well-behaved. However, it is not strictly necessary to do so, as the kernel function is designed to handle data with non-zero means."
   ]
  },
  {
   "cell_type": "code",
   "execution_count": 20,
   "metadata": {},
   "outputs": [
    {
     "name": "stdout",
     "output_type": "stream",
     "text": [
      "y is: [2. 4. 6.]\n",
      "y_pred is: [2. 4. 6.]\n",
      "cov: \n",
      "[[ 1.99999900e-06  2.47891985e-15 -6.14337930e-18]\n",
      " [ 2.47891985e-15  1.99999900e-06  2.47935353e-15]\n",
      " [-6.14464592e-18  2.47891985e-15  1.99999900e-06]]\n",
      "std: [0.00141421 0.00141421 0.00141421]\n"
     ]
    }
   ],
   "source": [
    "import cupy as cp\n",
    "\n",
    "class GaussianRegressor:\n",
    "    def __init__(self, kernel):\n",
    "        self.kernel = kernel\n",
    "        self.sigma = None\n",
    "        self.X = None\n",
    "        self.y = None\n",
    "\n",
    "    def fit(self, X, y, sigma=1e-6):\n",
    "        self.sigma = sigma\n",
    "        self.X = X\n",
    "        self.y = y\n",
    "\n",
    "    def predict(self, Xtest):\n",
    "        K = self.kernel(self.X, self.X) + self.sigma * cp.eye(len(self.X))\n",
    "        K_train_test = self.kernel(self.X, Xtest)\n",
    "        K_test_test = self.kernel(Xtest, Xtest) + self.sigma * cp.eye(len(Xtest))\n",
    "        \n",
    "        #mean = K_train_test.T @ cp.linalg.inv(K) @ self.y\n",
    "\n",
    "        # mu(x_train) and mu(x_test) are not strictly required\n",
    "        mean = mu(Xtest) + K_train_test.T @ cp.linalg.inv(K) @ (self.y - mu(self.X))\n",
    "\n",
    "        # returned cov represents the uncertainty associated with the predicted mean at each test point\n",
    "        cov = K_test_test - K_train_test.T @ cp.linalg.inv(K) @ K_train_test\n",
    "        std = cp.sqrt(cp.diag(cov))\n",
    "\n",
    "        return mean, cov, std\n",
    "\n",
    "# Define the RBF kernel\n",
    "# now X1 and X2 are m1-n and m2-n dimensional matrix\n",
    "# X1 and X2 have the same column number n which denotes the number of featrues\n",
    "# X1 and X2 have different first dimension m1 and m2 which denote number of data point\n",
    "def rbf_kernel(X1, X2, length_scale=1.0):\n",
    "    cp.atleast_2d(X1)\n",
    "    cp.atleast_2d(X2)\n",
    "    s1 = X1.shape\n",
    "    s2 = X2.shape\n",
    "    \n",
    "    if (s1[1] != s2[1]):\n",
    "        print(\"ERROR! RBF input matices must have the same number of columns!\")\n",
    "        return\n",
    "\n",
    "    dists = cp.sum((X1[:, cp.newaxis] - X2) ** 2, axis=2)\n",
    "    return cp.exp(-dists / (2 * length_scale ** 2))\n",
    "\n",
    "def mu(x):\n",
    "    n = x.shape[1]\n",
    "    return cp.sum(x,axis=1) / n\n",
    "\n",
    "'''\n",
    "X1 = cp.array([[1.,2.,3.],[3.,4.,5.],[5.,6.,7.]])\n",
    "X2 = cp.array([[2.,3.,4.],[7.,8.,9.],[9.,10,11.]])\n",
    "cov = rbf_kernel(X1, X2)\n",
    "print(cov)\n",
    "\n",
    ">> output is:\n",
    "[[2.23130160e-01 3.53262857e-24 2.03109266e-42]\n",
    " [2.23130160e-01 3.77513454e-11 3.53262857e-24]\n",
    " [1.37095909e-06 2.47875218e-03 3.77513454e-11]]\n",
    "'''\n",
    "\n",
    "X1 = cp.array([[1.,2.,3.],[3.,4.,5.],[5.,6.,7.]])\n",
    "y = cp.array([2.,4.,6.])\n",
    "gr = GaussianRegressor(rbf_kernel)\n",
    "gr.fit(X1,y)\n",
    "\n",
    "# use the same data set as training, y_pred should be similar to y\n",
    "y_pred, cov, std = gr.predict(X1)\n",
    "\n",
    "print('y is: ' + str(y))\n",
    "print('y_pred is: ' + str(y_pred))\n",
    "print('cov: \\n' + str(cov))\n",
    "print('std: ' + str(std))\n",
    "\n"
   ]
  },
  {
   "cell_type": "markdown",
   "metadata": {},
   "source": [
    "## GPR with Cholesky"
   ]
  },
  {
   "cell_type": "markdown",
   "metadata": {},
   "source": [
    "### what is Cholesky?"
   ]
  },
  {
   "cell_type": "markdown",
   "metadata": {},
   "source": [
    "Cholesky decomposition (or factorization) is a more efficiently method for solving a linear system of equations,especially for large and sparse matrices.\n",
    "\n",
    "Every symetric and positive semi-definite matrix $A$ can be decomposed into: $A = L * L^T$\n",
    "\n",
    "where L is a lower triangular matrix. The elements of L are calculated using the following equations:\n",
    "\n",
    "If symetric and positive semi-definite matrix $A$ satisfies the linear system quation $Ax = b$, then this system equation ($L * L^T * x = b$) can be solved more efficiently using Cholesky decomposition with two steps: \n",
    "\n",
    "1. Forward substitution: Solve $Ly = b$ for y using forward substitution.\n",
    "\n",
    "2. Backward substitution: Solve $L^Tx = y$ for x using backward substitution."
   ]
  },
  {
   "cell_type": "code",
   "execution_count": 22,
   "metadata": {},
   "outputs": [
    {
     "name": "stdout",
     "output_type": "stream",
     "text": [
      "y is: [2. 4. 6.]\n",
      "y_pred is: [2. 4. 6.]\n",
      "cov: \n",
      "[[1.00008890e-12 0.00000000e+00 0.00000000e+00]\n",
      " [0.00000000e+00 1.00019992e-12 4.33680869e-19]\n",
      " [0.00000000e+00 4.33680869e-19 1.00019992e-12]]\n",
      "std: [1.00004445e-06 1.00009996e-06 1.00009996e-06]\n"
     ]
    }
   ],
   "source": [
    "import cupy as cp\n",
    "\n",
    "class GaussianRegressorCholesky:\n",
    "    def __init__(self, kernel):\n",
    "        self.kernel = kernel\n",
    "        self.sigma = None\n",
    "        self.X = None\n",
    "        self.y = None\n",
    "\n",
    "    def fit(self, X, y, sigma=1e-6):\n",
    "        self.sigma = sigma\n",
    "        self.X = X\n",
    "        self.y = y\n",
    "        self.K = self.kernel(X, X) + self.sigma**2 * cp.eye(len(X))\n",
    "        self.L = cp.linalg.cholesky(self.K)\n",
    "        # let alpha = inv(K) * y => K * alpha = y => L*L.T * alpha = y => alpha = solve(L.T, solve(L, y))\n",
    "        self.alpha = cp.linalg.solve(self.L.T, cp.linalg.solve(self.L, y))\n",
    "\n",
    "    def predict(self, Xtest):\n",
    "        K_train_test = self.kernel(self.X, Xtest)\n",
    "        mean = K_train_test.T @ self.alpha\n",
    "\n",
    "        # L*v = K => v = inv(L)*K => v.T * v = K.T * inv(L.T) * inv(L) * K = K.T * inv(L*L.T) * K\n",
    "        v = cp.linalg.solve(self.L, K_train_test)\n",
    "        cov = self.kernel(Xtest, Xtest) - v.T @ v\n",
    "        std = cp.sqrt(cp.diag(cov))\n",
    "\n",
    "        return mean, cov, std\n",
    "\n",
    "\n",
    "X1 = cp.array([[1.,2.,3.],[3.,4.,5.],[5.,6.,7.]])\n",
    "y = cp.array([2.,4.,6.])\n",
    "gr = GaussianRegressorCholesky(rbf_kernel)\n",
    "gr.fit(X1,y)\n",
    "\n",
    "# use the same data set as training, y_pred should be similar to y\n",
    "y_pred, cov, std = gr.predict(X1)\n",
    "\n",
    "print('y is: ' + str(y))\n",
    "print('y_pred is: ' + str(y_pred))\n",
    "print('cov: \\n' + str(cov))\n",
    "print('std: ' + str(std))"
   ]
  },
  {
   "cell_type": "markdown",
   "metadata": {},
   "source": [
    "## GPR with Derivatives\n",
    "A Gaussian process is a collection of random variables, any finite subset of which has a joint Gaussian distribution. In machine learning, it is often used as a probabilistic model for regression and classification tasks, where the goal is to learn a mapping from input variables to output variables.\n",
    "\n",
    "In some cases, it can be useful to model not just the output variables, but also their derivatives. This can be done using a variant of the Gaussian process called a Gaussian process with derivatives (GPD). In a GPD, the joint distribution over the function values and their derivatives is still Gaussian, but the covariance function is modified to include information about the derivatives."
   ]
  },
  {
   "cell_type": "markdown",
   "metadata": {},
   "source": [
    "A Gaussian regression with derivatives model is a type of machine learning model that uses Gaussian functions to model the relationship between a set of input variables and a target variable, as well as the derivatives of the target variable with respect to the input variables. The model is typically used for regression problems, where the goal is to predict a continuous output variable.\n",
    "\n",
    "The basic form of the model is:\n",
    "\n",
    "y(x) = w0 + w1G1(x) + w2G2(x) + ... + wN*GN(x)\n",
    "\n",
    "where y(x) is the target variable, x is a vector of input variables, and G1(x), G2(x), ..., GN(x) are Gaussian functions centered at different points in the input space. The parameters w0, w1, ..., wN are the weights that are learned during training.\n",
    "\n",
    "In addition to modeling the target variable, the model also includes terms for the derivatives of the target variable with respect to the input variables. These terms are given by:\n",
    "\n",
    "dy(x)/dx1 = a1G1'(x) + a2G2'(x) + ... + aNGN'(x)\n",
    "dy(x)/dx2 = b1G1'(x) + b2G2'(x) + ... + bNGN'(x)\n",
    "...\n",
    "dy(x)/dxN = z1G1'(x) + z2G2'(x) + ... + zN*GN'(x)\n",
    "\n",
    "where G1'(x), G2'(x), ..., GN'(x) are the first derivatives of the Gaussian functions, and a1, a2, ..., aN, b1, b2, ..., bN, ..., z1, z2, ..., zN are the weights for the derivative terms.\n",
    "\n",
    "The final form of the model is:\n",
    "\n",
    "y(x) = w0 + w1G1(x) + w2G2(x) + ... + wN*GN(x) +\n",
    "dy(x)/dx1 + dy(x)/dx2 + ... + dy(x)/dxN\n",
    "\n",
    "During training, the weights w0, w1, ..., wN and a1, a2, ..., aN, b1, b2, ..., bN, ..., z1, z2, ..., zN are learned by minimizing the mean squared error between the model predictions and the true values of the target variable. The resulting model can then be used to predict the target variable and its derivatives for new inputs."
   ]
  },
  {
   "cell_type": "code",
   "execution_count": 50,
   "metadata": {},
   "outputs": [
    {
     "name": "stdout",
     "output_type": "stream",
     "text": [
      "the shape of X1 after deleting one column is: (3, 2)\n"
     ]
    },
    {
     "ename": "TypeError",
     "evalue": "Implicit conversion to a NumPy array is not allowed. Please use `.get()` to construct a NumPy array explicitly.",
     "output_type": "error",
     "traceback": [
      "\u001b[0;31m---------------------------------------------------------------------------\u001b[0m",
      "\u001b[0;31mTypeError\u001b[0m                                 Traceback (most recent call last)",
      "\u001b[0;32m/tmp/ipykernel_2790015/3025356123.py\u001b[0m in \u001b[0;36m<module>\u001b[0;34m\u001b[0m\n\u001b[1;32m     52\u001b[0m \u001b[0my\u001b[0m \u001b[0;34m=\u001b[0m \u001b[0mcp\u001b[0m\u001b[0;34m.\u001b[0m\u001b[0marray\u001b[0m\u001b[0;34m(\u001b[0m\u001b[0;34m[\u001b[0m\u001b[0;36m2.\u001b[0m\u001b[0;34m,\u001b[0m\u001b[0;36m4.\u001b[0m\u001b[0;34m,\u001b[0m\u001b[0;36m6.\u001b[0m\u001b[0;34m]\u001b[0m\u001b[0;34m)\u001b[0m\u001b[0;34m\u001b[0m\u001b[0;34m\u001b[0m\u001b[0m\n\u001b[1;32m     53\u001b[0m \u001b[0mgr\u001b[0m \u001b[0;34m=\u001b[0m \u001b[0mGaussianRegressionWithDerivatives\u001b[0m\u001b[0;34m(\u001b[0m\u001b[0;34m)\u001b[0m\u001b[0;34m\u001b[0m\u001b[0;34m\u001b[0m\u001b[0m\n\u001b[0;32m---> 54\u001b[0;31m \u001b[0mgr\u001b[0m\u001b[0;34m.\u001b[0m\u001b[0mfit\u001b[0m\u001b[0;34m(\u001b[0m\u001b[0mX1\u001b[0m\u001b[0;34m,\u001b[0m\u001b[0my\u001b[0m\u001b[0;34m)\u001b[0m\u001b[0;34m\u001b[0m\u001b[0;34m\u001b[0m\u001b[0m\n\u001b[0m\u001b[1;32m     55\u001b[0m \u001b[0;34m\u001b[0m\u001b[0m\n\u001b[1;32m     56\u001b[0m \u001b[0;31m# use the same data set as training, y_pred should be similar to y\u001b[0m\u001b[0;34m\u001b[0m\u001b[0;34m\u001b[0m\u001b[0m\n",
      "\u001b[0;32m/tmp/ipykernel_2790015/3025356123.py\u001b[0m in \u001b[0;36mfit\u001b[0;34m(self, X, y)\u001b[0m\n\u001b[1;32m     25\u001b[0m             \u001b[0mprint\u001b[0m\u001b[0;34m(\u001b[0m\u001b[0;34m'the shape of X1 after deleting one column is: '\u001b[0m \u001b[0;34m+\u001b[0m \u001b[0mstr\u001b[0m\u001b[0;34m(\u001b[0m\u001b[0mX1\u001b[0m\u001b[0;34m.\u001b[0m\u001b[0mshape\u001b[0m\u001b[0;34m)\u001b[0m\u001b[0;34m)\u001b[0m\u001b[0;34m\u001b[0m\u001b[0;34m\u001b[0m\u001b[0m\n\u001b[1;32m     26\u001b[0m             \u001b[0;31m#y1 = self.gpr.fit(X1, cp.gradient(y, axis=0)[:, i]).predict(X1, return_std=False)\u001b[0m\u001b[0;34m\u001b[0m\u001b[0;34m\u001b[0m\u001b[0m\n\u001b[0;32m---> 27\u001b[0;31m             \u001b[0my1\u001b[0m \u001b[0;34m=\u001b[0m \u001b[0mself\u001b[0m\u001b[0;34m.\u001b[0m\u001b[0mgpr\u001b[0m\u001b[0;34m.\u001b[0m\u001b[0mfit\u001b[0m\u001b[0;34m(\u001b[0m\u001b[0mX1\u001b[0m\u001b[0;34m,\u001b[0m \u001b[0mcp\u001b[0m\u001b[0;34m.\u001b[0m\u001b[0mgradient\u001b[0m\u001b[0;34m(\u001b[0m\u001b[0my\u001b[0m\u001b[0;34m,\u001b[0m \u001b[0maxis\u001b[0m\u001b[0;34m=\u001b[0m\u001b[0;36m0\u001b[0m\u001b[0;34m)\u001b[0m\u001b[0;34m)\u001b[0m\u001b[0;34m.\u001b[0m\u001b[0mpredict\u001b[0m\u001b[0;34m(\u001b[0m\u001b[0mX1\u001b[0m\u001b[0;34m,\u001b[0m \u001b[0mreturn_std\u001b[0m\u001b[0;34m=\u001b[0m\u001b[0;32mFalse\u001b[0m\u001b[0;34m)\u001b[0m\u001b[0;34m\u001b[0m\u001b[0;34m\u001b[0m\u001b[0m\n\u001b[0m\u001b[1;32m     28\u001b[0m             \u001b[0;31m#dy[:, i] = cp.gradient(y1, axis=0) / cp.gradient(X[:, i], axis=0)\u001b[0m\u001b[0;34m\u001b[0m\u001b[0;34m\u001b[0m\u001b[0m\n\u001b[1;32m     29\u001b[0m             \u001b[0mdy\u001b[0m\u001b[0;34m[\u001b[0m\u001b[0;34m:\u001b[0m\u001b[0;34m,\u001b[0m \u001b[0mi\u001b[0m\u001b[0;34m]\u001b[0m \u001b[0;34m=\u001b[0m \u001b[0mcp\u001b[0m\u001b[0;34m.\u001b[0m\u001b[0mgradient\u001b[0m\u001b[0;34m(\u001b[0m\u001b[0my1\u001b[0m\u001b[0;34m,\u001b[0m \u001b[0maxis\u001b[0m\u001b[0;34m=\u001b[0m\u001b[0;36m0\u001b[0m\u001b[0;34m)\u001b[0m \u001b[0;34m/\u001b[0m \u001b[0mcp\u001b[0m\u001b[0;34m.\u001b[0m\u001b[0mgradient\u001b[0m\u001b[0;34m(\u001b[0m\u001b[0mX\u001b[0m\u001b[0;34m[\u001b[0m\u001b[0;34m:\u001b[0m\u001b[0;34m,\u001b[0m \u001b[0mi\u001b[0m\u001b[0;34m]\u001b[0m\u001b[0;34m,\u001b[0m \u001b[0maxis\u001b[0m\u001b[0;34m=\u001b[0m\u001b[0;36m0\u001b[0m\u001b[0;34m)\u001b[0m\u001b[0;34m\u001b[0m\u001b[0;34m\u001b[0m\u001b[0m\n",
      "\u001b[0;32m~/anaconda3/lib/python3.9/site-packages/sklearn/gaussian_process/_gpr.py\u001b[0m in \u001b[0;36mfit\u001b[0;34m(self, X, y)\u001b[0m\n\u001b[1;32m    191\u001b[0m \u001b[0;34m\u001b[0m\u001b[0m\n\u001b[1;32m    192\u001b[0m         \u001b[0;32mif\u001b[0m \u001b[0mself\u001b[0m\u001b[0;34m.\u001b[0m\u001b[0mkernel_\u001b[0m\u001b[0;34m.\u001b[0m\u001b[0mrequires_vector_input\u001b[0m\u001b[0;34m:\u001b[0m\u001b[0;34m\u001b[0m\u001b[0;34m\u001b[0m\u001b[0m\n\u001b[0;32m--> 193\u001b[0;31m             X, y = self._validate_data(X, y, multi_output=True, y_numeric=True,\n\u001b[0m\u001b[1;32m    194\u001b[0m                                        ensure_2d=True, dtype=\"numeric\")\n\u001b[1;32m    195\u001b[0m         \u001b[0;32melse\u001b[0m\u001b[0;34m:\u001b[0m\u001b[0;34m\u001b[0m\u001b[0;34m\u001b[0m\u001b[0m\n",
      "\u001b[0;32m~/anaconda3/lib/python3.9/site-packages/sklearn/base.py\u001b[0m in \u001b[0;36m_validate_data\u001b[0;34m(self, X, y, reset, validate_separately, **check_params)\u001b[0m\n\u001b[1;32m    431\u001b[0m                 \u001b[0my\u001b[0m \u001b[0;34m=\u001b[0m \u001b[0mcheck_array\u001b[0m\u001b[0;34m(\u001b[0m\u001b[0my\u001b[0m\u001b[0;34m,\u001b[0m \u001b[0;34m**\u001b[0m\u001b[0mcheck_y_params\u001b[0m\u001b[0;34m)\u001b[0m\u001b[0;34m\u001b[0m\u001b[0;34m\u001b[0m\u001b[0m\n\u001b[1;32m    432\u001b[0m             \u001b[0;32melse\u001b[0m\u001b[0;34m:\u001b[0m\u001b[0;34m\u001b[0m\u001b[0;34m\u001b[0m\u001b[0m\n\u001b[0;32m--> 433\u001b[0;31m                 \u001b[0mX\u001b[0m\u001b[0;34m,\u001b[0m \u001b[0my\u001b[0m \u001b[0;34m=\u001b[0m \u001b[0mcheck_X_y\u001b[0m\u001b[0;34m(\u001b[0m\u001b[0mX\u001b[0m\u001b[0;34m,\u001b[0m \u001b[0my\u001b[0m\u001b[0;34m,\u001b[0m \u001b[0;34m**\u001b[0m\u001b[0mcheck_params\u001b[0m\u001b[0;34m)\u001b[0m\u001b[0;34m\u001b[0m\u001b[0;34m\u001b[0m\u001b[0m\n\u001b[0m\u001b[1;32m    434\u001b[0m             \u001b[0mout\u001b[0m \u001b[0;34m=\u001b[0m \u001b[0mX\u001b[0m\u001b[0;34m,\u001b[0m \u001b[0my\u001b[0m\u001b[0;34m\u001b[0m\u001b[0;34m\u001b[0m\u001b[0m\n\u001b[1;32m    435\u001b[0m \u001b[0;34m\u001b[0m\u001b[0m\n",
      "\u001b[0;32m~/anaconda3/lib/python3.9/site-packages/sklearn/utils/validation.py\u001b[0m in \u001b[0;36minner_f\u001b[0;34m(*args, **kwargs)\u001b[0m\n\u001b[1;32m     61\u001b[0m             \u001b[0mextra_args\u001b[0m \u001b[0;34m=\u001b[0m \u001b[0mlen\u001b[0m\u001b[0;34m(\u001b[0m\u001b[0margs\u001b[0m\u001b[0;34m)\u001b[0m \u001b[0;34m-\u001b[0m \u001b[0mlen\u001b[0m\u001b[0;34m(\u001b[0m\u001b[0mall_args\u001b[0m\u001b[0;34m)\u001b[0m\u001b[0;34m\u001b[0m\u001b[0;34m\u001b[0m\u001b[0m\n\u001b[1;32m     62\u001b[0m             \u001b[0;32mif\u001b[0m \u001b[0mextra_args\u001b[0m \u001b[0;34m<=\u001b[0m \u001b[0;36m0\u001b[0m\u001b[0;34m:\u001b[0m\u001b[0;34m\u001b[0m\u001b[0;34m\u001b[0m\u001b[0m\n\u001b[0;32m---> 63\u001b[0;31m                 \u001b[0;32mreturn\u001b[0m \u001b[0mf\u001b[0m\u001b[0;34m(\u001b[0m\u001b[0;34m*\u001b[0m\u001b[0margs\u001b[0m\u001b[0;34m,\u001b[0m \u001b[0;34m**\u001b[0m\u001b[0mkwargs\u001b[0m\u001b[0;34m)\u001b[0m\u001b[0;34m\u001b[0m\u001b[0;34m\u001b[0m\u001b[0m\n\u001b[0m\u001b[1;32m     64\u001b[0m \u001b[0;34m\u001b[0m\u001b[0m\n\u001b[1;32m     65\u001b[0m             \u001b[0;31m# extra_args > 0\u001b[0m\u001b[0;34m\u001b[0m\u001b[0;34m\u001b[0m\u001b[0m\n",
      "\u001b[0;32m~/anaconda3/lib/python3.9/site-packages/sklearn/utils/validation.py\u001b[0m in \u001b[0;36mcheck_X_y\u001b[0;34m(X, y, accept_sparse, accept_large_sparse, dtype, order, copy, force_all_finite, ensure_2d, allow_nd, multi_output, ensure_min_samples, ensure_min_features, y_numeric, estimator)\u001b[0m\n\u001b[1;32m    869\u001b[0m         \u001b[0;32mraise\u001b[0m \u001b[0mValueError\u001b[0m\u001b[0;34m(\u001b[0m\u001b[0;34m\"y cannot be None\"\u001b[0m\u001b[0;34m)\u001b[0m\u001b[0;34m\u001b[0m\u001b[0;34m\u001b[0m\u001b[0m\n\u001b[1;32m    870\u001b[0m \u001b[0;34m\u001b[0m\u001b[0m\n\u001b[0;32m--> 871\u001b[0;31m     X = check_array(X, accept_sparse=accept_sparse,\n\u001b[0m\u001b[1;32m    872\u001b[0m                     \u001b[0maccept_large_sparse\u001b[0m\u001b[0;34m=\u001b[0m\u001b[0maccept_large_sparse\u001b[0m\u001b[0;34m,\u001b[0m\u001b[0;34m\u001b[0m\u001b[0;34m\u001b[0m\u001b[0m\n\u001b[1;32m    873\u001b[0m                     \u001b[0mdtype\u001b[0m\u001b[0;34m=\u001b[0m\u001b[0mdtype\u001b[0m\u001b[0;34m,\u001b[0m \u001b[0morder\u001b[0m\u001b[0;34m=\u001b[0m\u001b[0morder\u001b[0m\u001b[0;34m,\u001b[0m \u001b[0mcopy\u001b[0m\u001b[0;34m=\u001b[0m\u001b[0mcopy\u001b[0m\u001b[0;34m,\u001b[0m\u001b[0;34m\u001b[0m\u001b[0;34m\u001b[0m\u001b[0m\n",
      "\u001b[0;32m~/anaconda3/lib/python3.9/site-packages/sklearn/utils/validation.py\u001b[0m in \u001b[0;36minner_f\u001b[0;34m(*args, **kwargs)\u001b[0m\n\u001b[1;32m     61\u001b[0m             \u001b[0mextra_args\u001b[0m \u001b[0;34m=\u001b[0m \u001b[0mlen\u001b[0m\u001b[0;34m(\u001b[0m\u001b[0margs\u001b[0m\u001b[0;34m)\u001b[0m \u001b[0;34m-\u001b[0m \u001b[0mlen\u001b[0m\u001b[0;34m(\u001b[0m\u001b[0mall_args\u001b[0m\u001b[0;34m)\u001b[0m\u001b[0;34m\u001b[0m\u001b[0;34m\u001b[0m\u001b[0m\n\u001b[1;32m     62\u001b[0m             \u001b[0;32mif\u001b[0m \u001b[0mextra_args\u001b[0m \u001b[0;34m<=\u001b[0m \u001b[0;36m0\u001b[0m\u001b[0;34m:\u001b[0m\u001b[0;34m\u001b[0m\u001b[0;34m\u001b[0m\u001b[0m\n\u001b[0;32m---> 63\u001b[0;31m                 \u001b[0;32mreturn\u001b[0m \u001b[0mf\u001b[0m\u001b[0;34m(\u001b[0m\u001b[0;34m*\u001b[0m\u001b[0margs\u001b[0m\u001b[0;34m,\u001b[0m \u001b[0;34m**\u001b[0m\u001b[0mkwargs\u001b[0m\u001b[0;34m)\u001b[0m\u001b[0;34m\u001b[0m\u001b[0;34m\u001b[0m\u001b[0m\n\u001b[0m\u001b[1;32m     64\u001b[0m \u001b[0;34m\u001b[0m\u001b[0m\n\u001b[1;32m     65\u001b[0m             \u001b[0;31m# extra_args > 0\u001b[0m\u001b[0;34m\u001b[0m\u001b[0;34m\u001b[0m\u001b[0m\n",
      "\u001b[0;32m~/anaconda3/lib/python3.9/site-packages/sklearn/utils/validation.py\u001b[0m in \u001b[0;36mcheck_array\u001b[0;34m(array, accept_sparse, accept_large_sparse, dtype, order, copy, force_all_finite, ensure_2d, allow_nd, ensure_min_samples, ensure_min_features, estimator)\u001b[0m\n\u001b[1;32m    671\u001b[0m                     \u001b[0marray\u001b[0m \u001b[0;34m=\u001b[0m \u001b[0marray\u001b[0m\u001b[0;34m.\u001b[0m\u001b[0mastype\u001b[0m\u001b[0;34m(\u001b[0m\u001b[0mdtype\u001b[0m\u001b[0;34m,\u001b[0m \u001b[0mcasting\u001b[0m\u001b[0;34m=\u001b[0m\u001b[0;34m\"unsafe\"\u001b[0m\u001b[0;34m,\u001b[0m \u001b[0mcopy\u001b[0m\u001b[0;34m=\u001b[0m\u001b[0;32mFalse\u001b[0m\u001b[0;34m)\u001b[0m\u001b[0;34m\u001b[0m\u001b[0;34m\u001b[0m\u001b[0m\n\u001b[1;32m    672\u001b[0m                 \u001b[0;32melse\u001b[0m\u001b[0;34m:\u001b[0m\u001b[0;34m\u001b[0m\u001b[0;34m\u001b[0m\u001b[0m\n\u001b[0;32m--> 673\u001b[0;31m                     \u001b[0marray\u001b[0m \u001b[0;34m=\u001b[0m \u001b[0mnp\u001b[0m\u001b[0;34m.\u001b[0m\u001b[0masarray\u001b[0m\u001b[0;34m(\u001b[0m\u001b[0marray\u001b[0m\u001b[0;34m,\u001b[0m \u001b[0morder\u001b[0m\u001b[0;34m=\u001b[0m\u001b[0morder\u001b[0m\u001b[0;34m,\u001b[0m \u001b[0mdtype\u001b[0m\u001b[0;34m=\u001b[0m\u001b[0mdtype\u001b[0m\u001b[0;34m)\u001b[0m\u001b[0;34m\u001b[0m\u001b[0;34m\u001b[0m\u001b[0m\n\u001b[0m\u001b[1;32m    674\u001b[0m             \u001b[0;32mexcept\u001b[0m \u001b[0mComplexWarning\u001b[0m \u001b[0;32mas\u001b[0m \u001b[0mcomplex_warning\u001b[0m\u001b[0;34m:\u001b[0m\u001b[0;34m\u001b[0m\u001b[0;34m\u001b[0m\u001b[0m\n\u001b[1;32m    675\u001b[0m                 raise ValueError(\"Complex data not supported\\n\"\n",
      "\u001b[0;32m~/anaconda3/lib/python3.9/site-packages/numpy/core/_asarray.py\u001b[0m in \u001b[0;36masarray\u001b[0;34m(a, dtype, order, like)\u001b[0m\n\u001b[1;32m    100\u001b[0m         \u001b[0;32mreturn\u001b[0m \u001b[0m_asarray_with_like\u001b[0m\u001b[0;34m(\u001b[0m\u001b[0ma\u001b[0m\u001b[0;34m,\u001b[0m \u001b[0mdtype\u001b[0m\u001b[0;34m=\u001b[0m\u001b[0mdtype\u001b[0m\u001b[0;34m,\u001b[0m \u001b[0morder\u001b[0m\u001b[0;34m=\u001b[0m\u001b[0morder\u001b[0m\u001b[0;34m,\u001b[0m \u001b[0mlike\u001b[0m\u001b[0;34m=\u001b[0m\u001b[0mlike\u001b[0m\u001b[0;34m)\u001b[0m\u001b[0;34m\u001b[0m\u001b[0;34m\u001b[0m\u001b[0m\n\u001b[1;32m    101\u001b[0m \u001b[0;34m\u001b[0m\u001b[0m\n\u001b[0;32m--> 102\u001b[0;31m     \u001b[0;32mreturn\u001b[0m \u001b[0marray\u001b[0m\u001b[0;34m(\u001b[0m\u001b[0ma\u001b[0m\u001b[0;34m,\u001b[0m \u001b[0mdtype\u001b[0m\u001b[0;34m,\u001b[0m \u001b[0mcopy\u001b[0m\u001b[0;34m=\u001b[0m\u001b[0;32mFalse\u001b[0m\u001b[0;34m,\u001b[0m \u001b[0morder\u001b[0m\u001b[0;34m=\u001b[0m\u001b[0morder\u001b[0m\u001b[0;34m)\u001b[0m\u001b[0;34m\u001b[0m\u001b[0;34m\u001b[0m\u001b[0m\n\u001b[0m\u001b[1;32m    103\u001b[0m \u001b[0;34m\u001b[0m\u001b[0m\n\u001b[1;32m    104\u001b[0m \u001b[0;34m\u001b[0m\u001b[0m\n",
      "\u001b[0;32mcupy/_core/core.pyx\u001b[0m in \u001b[0;36mcupy._core.core.ndarray.__array__\u001b[0;34m()\u001b[0m\n",
      "\u001b[0;31mTypeError\u001b[0m: Implicit conversion to a NumPy array is not allowed. Please use `.get()` to construct a NumPy array explicitly."
     ]
    }
   ],
   "source": [
    "from sklearn.base import BaseEstimator, RegressorMixin\n",
    "from sklearn.gaussian_process import GaussianProcessRegressor\n",
    "from sklearn.gaussian_process.kernels import RBF, WhiteKernel\n",
    "import cupy as cp\n",
    "\n",
    "class GaussianRegressionWithDerivatives(BaseEstimator, RegressorMixin):\n",
    "    def __init__(self, kernel=None, alpha=0.0):\n",
    "        self.kernel = kernel\n",
    "        self.alpha = alpha\n",
    "        \n",
    "    def fit(self, X, y):\n",
    "        n_samples, n_features = X.shape\n",
    "        \n",
    "        # Create kernel for Gaussian process regression\n",
    "        if self.kernel is None:\n",
    "            self.kernel = RBF(length_scale=1.0, length_scale_bounds=(1e-2, 1e2)) + \\\n",
    "                          WhiteKernel(noise_level=1.0, noise_level_bounds=(1e-10, 1e2))\n",
    "        self.gpr = GaussianProcessRegressor(kernel=self.kernel, alpha=self.alpha, normalize_y=True)\n",
    "        \n",
    "        # Compute derivatives of y with respect to each feature\n",
    "        dy = cp.zeros((n_samples, n_features))\n",
    "        for i in range(n_features):\n",
    "            #X1 = cp.delete(X, i, axis=1)\n",
    "            X1 = cp.concatenate((X[:,:i], X[:,i+1:]), axis=1)\n",
    "            print('the shape of X1 after deleting one column is: ' + str(X1.shape))\n",
    "            #y1 = self.gpr.fit(X1, cp.gradient(y, axis=0)[:, i]).predict(X1, return_std=False)\n",
    "            y1 = self.gpr.fit(X1, cp.gradient(y, axis=0)).predict(X1, return_std=False)\n",
    "            #dy[:, i] = cp.gradient(y1, axis=0) / cp.gradient(X[:, i], axis=0)\n",
    "            dy[:, i] = cp.gradient(y1, axis=0) / cp.gradient(X[:, i], axis=0)\n",
    "            \n",
    "        # Fit the model with y and its derivatives\n",
    "        X_aug = cp.concatenate((X, dy), axis=1)\n",
    "        self.gpr.fit(X_aug, y)\n",
    "        return self\n",
    "        \n",
    "    def predict(self, X):\n",
    "        n_samples, n_features = X.shape\n",
    "        \n",
    "        # Compute derivatives of X\n",
    "        dX = np.zeros((n_samples, n_features))\n",
    "        for i in range(n_features):\n",
    "            dX[:, i] = np.gradient(X[:, i], axis=0)\n",
    "        \n",
    "        # Predict y and its derivatives\n",
    "        X_aug = cp.concatenate((X, dX), axis=1)\n",
    "        y_pred = self.gpr.predict(X_aug, return_std=False)\n",
    "        dy_pred = self.gpr.predict(X_aug, return_std=False, jac=True)[1]\n",
    "        \n",
    "        return y_pred, dy_pred\n",
    "\n",
    "X1 = cp.array([[1.,2.,3.],[3.,4.,5.],[5.,6.,7.]])\n",
    "y = cp.array([2.,4.,6.])\n",
    "gr = GaussianRegressionWithDerivatives()\n",
    "gr.fit(X1,y)\n",
    "\n",
    "# use the same data set as training, y_pred should be similar to y\n",
    "y_pred, dy_pred = gr.predict(X1)\n",
    "\n",
    "print('y is: ' + str(y))\n",
    "print('y_pred is: ' + str(y_pred))\n",
    "print('dy_pred: \\n' + str(dy_pred))"
   ]
  },
  {
   "cell_type": "code",
   "execution_count": 43,
   "metadata": {},
   "outputs": [
    {
     "name": "stdout",
     "output_type": "stream",
     "text": [
      "[[1 2 3]\n",
      " [4 5 6]\n",
      " [7 8 9]]\n",
      "[[1 3]\n",
      " [4 6]\n",
      " [7 9]]\n"
     ]
    }
   ],
   "source": [
    "import cupy as cp\n",
    "\n",
    "# create a 3x3 matrix\n",
    "a = cp.array([[1, 2, 3], [4, 5, 6], [7, 8, 9]])\n",
    "\n",
    "# delete the second column (index 1) and modify the original array in place\n",
    "b = cp.concatenate((a[:,:1], a[:,2:]), axis=1)\n",
    "\n",
    "print(a)\n",
    "print(b)"
   ]
  },
  {
   "cell_type": "code",
   "execution_count": 47,
   "metadata": {},
   "outputs": [
    {
     "name": "stdout",
     "output_type": "stream",
     "text": [
      "[[3. 3. 3.]\n",
      " [3. 3. 3.]\n",
      " [3. 3. 3.]]\n",
      "[[1. 1. 1.]\n",
      " [1. 1. 1.]\n",
      " [1. 1. 1.]]\n"
     ]
    }
   ],
   "source": [
    "import cupy as cp\n",
    "\n",
    "# create a 2D array\n",
    "a = cp.array([[1, 2, 3], [4, 5, 6], [7, 8, 9]])\n",
    "\n",
    "# compute the gradient of the array\n",
    "grad_x, grad_y = cp.gradient(a)\n",
    "\n",
    "print(grad_x)\n",
    "print(grad_y)\n"
   ]
  }
 ],
 "metadata": {
  "kernelspec": {
   "display_name": "Python 3 (ipykernel)",
   "language": "python",
   "name": "python3"
  },
  "language_info": {
   "codemirror_mode": {
    "name": "ipython",
    "version": 3
   },
   "file_extension": ".py",
   "mimetype": "text/x-python",
   "name": "python",
   "nbconvert_exporter": "python",
   "pygments_lexer": "ipython3",
   "version": "3.9.7"
  }
 },
 "nbformat": 4,
 "nbformat_minor": 5
}
